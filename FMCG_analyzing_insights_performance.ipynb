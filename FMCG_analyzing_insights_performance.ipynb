{
 "cells": [
  {
   "cell_type": "markdown",
   "id": "22c4771e",
   "metadata": {},
   "source": [
    "# FCMG "
   ]
  },
  {
   "cell_type": "code",
   "execution_count": 1,
   "id": "f26d6363",
   "metadata": {},
   "outputs": [],
   "source": [
    "import pandas as pd\n",
    "import numpy as np\n",
    "import os\n",
    "import matplotlib.pyplot as plt\n",
    "import seaborn as sns"
   ]
  },
  {
   "cell_type": "code",
   "execution_count": null,
   "id": "71edecc5",
   "metadata": {},
   "outputs": [],
   "source": []
  },
  {
   "cell_type": "code",
   "execution_count": 2,
   "id": "16479fbc",
   "metadata": {},
   "outputs": [],
   "source": [
    "pd.set_option('display.max_columns', None)"
   ]
  },
  {
   "cell_type": "code",
   "execution_count": 3,
   "id": "b4134ed9",
   "metadata": {},
   "outputs": [],
   "source": [
    "df = os.chdir('/Users/nguyenthientoan/Data_Analyst_Project/dataset')"
   ]
  },
  {
   "cell_type": "code",
   "execution_count": 4,
   "id": "3855dcdd",
   "metadata": {},
   "outputs": [
    {
     "data": {
      "text/plain": [
       "'/Users/nguyenthientoan/Data_Analyst_Project/dataset'"
      ]
     },
     "execution_count": 4,
     "metadata": {},
     "output_type": "execute_result"
    }
   ],
   "source": [
    "os.getcwd()"
   ]
  },
  {
   "cell_type": "code",
   "execution_count": 5,
   "id": "0c39960a",
   "metadata": {},
   "outputs": [],
   "source": [
    "df = pd.read_csv('FMCG_data.csv')"
   ]
  },
  {
   "cell_type": "code",
   "execution_count": 6,
   "id": "0eef6c6f",
   "metadata": {},
   "outputs": [
    {
     "name": "stdout",
     "output_type": "stream",
     "text": [
      "<class 'pandas.core.frame.DataFrame'>\n",
      "RangeIndex: 25000 entries, 0 to 24999\n",
      "Data columns (total 24 columns):\n",
      " #   Column                        Non-Null Count  Dtype  \n",
      "---  ------                        --------------  -----  \n",
      " 0   Ware_house_ID                 25000 non-null  object \n",
      " 1   WH_Manager_ID                 25000 non-null  object \n",
      " 2   Location_type                 25000 non-null  object \n",
      " 3   WH_capacity_size              25000 non-null  object \n",
      " 4   zone                          25000 non-null  object \n",
      " 5   WH_regional_zone              25000 non-null  object \n",
      " 6   num_refill_req_l3m            25000 non-null  int64  \n",
      " 7   transport_issue_l1y           25000 non-null  int64  \n",
      " 8   Competitor_in_mkt             25000 non-null  int64  \n",
      " 9   retail_shop_num               25000 non-null  int64  \n",
      " 10  wh_owner_type                 25000 non-null  object \n",
      " 11  distributor_num               25000 non-null  int64  \n",
      " 12  flood_impacted                25000 non-null  int64  \n",
      " 13  flood_proof                   25000 non-null  int64  \n",
      " 14  electric_supply               25000 non-null  int64  \n",
      " 15  dist_from_hub                 25000 non-null  int64  \n",
      " 16  workers_num                   24010 non-null  float64\n",
      " 17  wh_est_year                   13119 non-null  float64\n",
      " 18  storage_issue_reported_l3m    25000 non-null  int64  \n",
      " 19  temp_reg_mach                 25000 non-null  int64  \n",
      " 20  approved_wh_govt_certificate  24092 non-null  object \n",
      " 21  wh_breakdown_l3m              25000 non-null  int64  \n",
      " 22  govt_check_l3m                25000 non-null  int64  \n",
      " 23  product_wg_ton                25000 non-null  int64  \n",
      "dtypes: float64(2), int64(14), object(8)\n",
      "memory usage: 4.6+ MB\n"
     ]
    }
   ],
   "source": [
    "df.info()"
   ]
  },
  {
   "cell_type": "markdown",
   "id": "fa5999fb",
   "metadata": {},
   "source": [
    "# Question \n",
    "\n",
    "1. Demand (product_wg_ton) tập trung ở các phân khúc như thế nào? (region/zone, location type, owner type,Flood Affect, Size, Certificated). So sánh/ cho thấy pattern giữa các phân khúc.\n",
    "\n",
    "2. Supply (# Ware_house_ID) tập trung ở các phân khúc như thế nào? (region/zone, location type, owner type,Flood Affect, Size, Certificated). So sánh/ cho thấy pattern giữa các phân khúc.\n",
    "\n",
    "3. Phân loại warehouse theo số năm thành lập, mỗi năm có bao nhiêu warehouse mới. Sản lượng của các warehouse thay đổi thế nào dựa trên số năm thành lập\n",
    "\n",
    "4. Về quản lý warehouse, các chỉ số transport_issue_l1y, wh_breakdown_l3m,num_refill_req_l3m, storage_issue_reported_l3m thay đổi thế nào giữa các warehouse có số năm thành lập giống nhau"
   ]
  },
  {
   "cell_type": "markdown",
   "id": "f365d56b",
   "metadata": {},
   "source": [
    "# Cleaning\n",
    "\n",
    "#### Missing \n",
    "    *** Total row: 25000\n",
    "        - workers_num: 24010\n",
    "        - wh_est_year: 13119\n",
    "        - approved_wh_govt_certificate: 24092\n",
    "    =>> Đây là bài tập về phân tích nên tạm thời tôi sẽ dùng phương pháp `dropna()`... tập trung phân tích\n",
    "\n",
    "#### Duplication\n",
    "    Khong co 0 duplication\n",
    "#### Datatype validation\n",
    "    \n",
    "    - workers_num: float -> int64\n",
    "    - wh_est_year: float -> int64\n",
    "#### Convert categorical variables\n",
    "    *** Method: using one-hot encoding or label encoding\n",
    "    - Location_type\n",
    "    - zone\n",
    "    - WH_regional_zone\n",
    "    - wh_owner_type\n",
    "    \n",
    "#### Normalize or scale numerical features"
   ]
  },
  {
   "cell_type": "code",
   "execution_count": 7,
   "id": "14cd89c7",
   "metadata": {},
   "outputs": [
    {
     "data": {
      "text/html": [
       "<div>\n",
       "<style scoped>\n",
       "    .dataframe tbody tr th:only-of-type {\n",
       "        vertical-align: middle;\n",
       "    }\n",
       "\n",
       "    .dataframe tbody tr th {\n",
       "        vertical-align: top;\n",
       "    }\n",
       "\n",
       "    .dataframe thead th {\n",
       "        text-align: right;\n",
       "    }\n",
       "</style>\n",
       "<table border=\"1\" class=\"dataframe\">\n",
       "  <thead>\n",
       "    <tr style=\"text-align: right;\">\n",
       "      <th></th>\n",
       "      <th>Ware_house_ID</th>\n",
       "      <th>WH_Manager_ID</th>\n",
       "      <th>Location_type</th>\n",
       "      <th>WH_capacity_size</th>\n",
       "      <th>zone</th>\n",
       "      <th>WH_regional_zone</th>\n",
       "      <th>num_refill_req_l3m</th>\n",
       "      <th>transport_issue_l1y</th>\n",
       "      <th>Competitor_in_mkt</th>\n",
       "      <th>retail_shop_num</th>\n",
       "      <th>wh_owner_type</th>\n",
       "      <th>distributor_num</th>\n",
       "      <th>flood_impacted</th>\n",
       "      <th>flood_proof</th>\n",
       "      <th>electric_supply</th>\n",
       "      <th>dist_from_hub</th>\n",
       "      <th>workers_num</th>\n",
       "      <th>wh_est_year</th>\n",
       "      <th>storage_issue_reported_l3m</th>\n",
       "      <th>temp_reg_mach</th>\n",
       "      <th>approved_wh_govt_certificate</th>\n",
       "      <th>wh_breakdown_l3m</th>\n",
       "      <th>govt_check_l3m</th>\n",
       "      <th>product_wg_ton</th>\n",
       "    </tr>\n",
       "  </thead>\n",
       "  <tbody>\n",
       "    <tr>\n",
       "      <th>0</th>\n",
       "      <td>WH_100000</td>\n",
       "      <td>EID_50000</td>\n",
       "      <td>Urban</td>\n",
       "      <td>Small</td>\n",
       "      <td>West</td>\n",
       "      <td>Zone 6</td>\n",
       "      <td>3</td>\n",
       "      <td>1</td>\n",
       "      <td>2</td>\n",
       "      <td>4651</td>\n",
       "      <td>Rented</td>\n",
       "      <td>24</td>\n",
       "      <td>0</td>\n",
       "      <td>1</td>\n",
       "      <td>1</td>\n",
       "      <td>91</td>\n",
       "      <td>29.0</td>\n",
       "      <td>NaN</td>\n",
       "      <td>13</td>\n",
       "      <td>0</td>\n",
       "      <td>A</td>\n",
       "      <td>5</td>\n",
       "      <td>15</td>\n",
       "      <td>17115</td>\n",
       "    </tr>\n",
       "    <tr>\n",
       "      <th>1</th>\n",
       "      <td>WH_100001</td>\n",
       "      <td>EID_50001</td>\n",
       "      <td>Rural</td>\n",
       "      <td>Large</td>\n",
       "      <td>North</td>\n",
       "      <td>Zone 5</td>\n",
       "      <td>0</td>\n",
       "      <td>0</td>\n",
       "      <td>4</td>\n",
       "      <td>6217</td>\n",
       "      <td>Company Owned</td>\n",
       "      <td>47</td>\n",
       "      <td>0</td>\n",
       "      <td>0</td>\n",
       "      <td>1</td>\n",
       "      <td>210</td>\n",
       "      <td>31.0</td>\n",
       "      <td>NaN</td>\n",
       "      <td>4</td>\n",
       "      <td>0</td>\n",
       "      <td>A</td>\n",
       "      <td>3</td>\n",
       "      <td>17</td>\n",
       "      <td>5074</td>\n",
       "    </tr>\n",
       "    <tr>\n",
       "      <th>2</th>\n",
       "      <td>WH_100002</td>\n",
       "      <td>EID_50002</td>\n",
       "      <td>Rural</td>\n",
       "      <td>Mid</td>\n",
       "      <td>South</td>\n",
       "      <td>Zone 2</td>\n",
       "      <td>1</td>\n",
       "      <td>0</td>\n",
       "      <td>4</td>\n",
       "      <td>4306</td>\n",
       "      <td>Company Owned</td>\n",
       "      <td>64</td>\n",
       "      <td>0</td>\n",
       "      <td>0</td>\n",
       "      <td>0</td>\n",
       "      <td>161</td>\n",
       "      <td>37.0</td>\n",
       "      <td>NaN</td>\n",
       "      <td>17</td>\n",
       "      <td>0</td>\n",
       "      <td>A</td>\n",
       "      <td>6</td>\n",
       "      <td>22</td>\n",
       "      <td>23137</td>\n",
       "    </tr>\n",
       "    <tr>\n",
       "      <th>3</th>\n",
       "      <td>WH_100003</td>\n",
       "      <td>EID_50003</td>\n",
       "      <td>Rural</td>\n",
       "      <td>Mid</td>\n",
       "      <td>North</td>\n",
       "      <td>Zone 3</td>\n",
       "      <td>7</td>\n",
       "      <td>4</td>\n",
       "      <td>2</td>\n",
       "      <td>6000</td>\n",
       "      <td>Rented</td>\n",
       "      <td>50</td>\n",
       "      <td>0</td>\n",
       "      <td>0</td>\n",
       "      <td>0</td>\n",
       "      <td>103</td>\n",
       "      <td>21.0</td>\n",
       "      <td>NaN</td>\n",
       "      <td>17</td>\n",
       "      <td>1</td>\n",
       "      <td>A+</td>\n",
       "      <td>3</td>\n",
       "      <td>27</td>\n",
       "      <td>22115</td>\n",
       "    </tr>\n",
       "    <tr>\n",
       "      <th>4</th>\n",
       "      <td>WH_100004</td>\n",
       "      <td>EID_50004</td>\n",
       "      <td>Rural</td>\n",
       "      <td>Large</td>\n",
       "      <td>North</td>\n",
       "      <td>Zone 5</td>\n",
       "      <td>3</td>\n",
       "      <td>1</td>\n",
       "      <td>2</td>\n",
       "      <td>4740</td>\n",
       "      <td>Company Owned</td>\n",
       "      <td>42</td>\n",
       "      <td>1</td>\n",
       "      <td>0</td>\n",
       "      <td>1</td>\n",
       "      <td>112</td>\n",
       "      <td>25.0</td>\n",
       "      <td>2009.0</td>\n",
       "      <td>18</td>\n",
       "      <td>0</td>\n",
       "      <td>C</td>\n",
       "      <td>6</td>\n",
       "      <td>24</td>\n",
       "      <td>24071</td>\n",
       "    </tr>\n",
       "  </tbody>\n",
       "</table>\n",
       "</div>"
      ],
      "text/plain": [
       "  Ware_house_ID WH_Manager_ID Location_type WH_capacity_size   zone  \\\n",
       "0     WH_100000     EID_50000         Urban            Small   West   \n",
       "1     WH_100001     EID_50001         Rural            Large  North   \n",
       "2     WH_100002     EID_50002         Rural              Mid  South   \n",
       "3     WH_100003     EID_50003         Rural              Mid  North   \n",
       "4     WH_100004     EID_50004         Rural            Large  North   \n",
       "\n",
       "  WH_regional_zone  num_refill_req_l3m  transport_issue_l1y  \\\n",
       "0           Zone 6                   3                    1   \n",
       "1           Zone 5                   0                    0   \n",
       "2           Zone 2                   1                    0   \n",
       "3           Zone 3                   7                    4   \n",
       "4           Zone 5                   3                    1   \n",
       "\n",
       "   Competitor_in_mkt  retail_shop_num  wh_owner_type  distributor_num  \\\n",
       "0                  2             4651         Rented               24   \n",
       "1                  4             6217  Company Owned               47   \n",
       "2                  4             4306  Company Owned               64   \n",
       "3                  2             6000         Rented               50   \n",
       "4                  2             4740  Company Owned               42   \n",
       "\n",
       "   flood_impacted  flood_proof  electric_supply  dist_from_hub  workers_num  \\\n",
       "0               0            1                1             91         29.0   \n",
       "1               0            0                1            210         31.0   \n",
       "2               0            0                0            161         37.0   \n",
       "3               0            0                0            103         21.0   \n",
       "4               1            0                1            112         25.0   \n",
       "\n",
       "   wh_est_year  storage_issue_reported_l3m  temp_reg_mach  \\\n",
       "0          NaN                          13              0   \n",
       "1          NaN                           4              0   \n",
       "2          NaN                          17              0   \n",
       "3          NaN                          17              1   \n",
       "4       2009.0                          18              0   \n",
       "\n",
       "  approved_wh_govt_certificate  wh_breakdown_l3m  govt_check_l3m  \\\n",
       "0                            A                 5              15   \n",
       "1                            A                 3              17   \n",
       "2                            A                 6              22   \n",
       "3                           A+                 3              27   \n",
       "4                            C                 6              24   \n",
       "\n",
       "   product_wg_ton  \n",
       "0           17115  \n",
       "1            5074  \n",
       "2           23137  \n",
       "3           22115  \n",
       "4           24071  "
      ]
     },
     "execution_count": 7,
     "metadata": {},
     "output_type": "execute_result"
    }
   ],
   "source": [
    "df.head()"
   ]
  },
  {
   "cell_type": "code",
   "execution_count": 8,
   "id": "0cb0a52f",
   "metadata": {},
   "outputs": [
    {
     "data": {
      "text/plain": [
       "Ware_house_ID                    object\n",
       "WH_Manager_ID                    object\n",
       "Location_type                    object\n",
       "WH_capacity_size                 object\n",
       "zone                             object\n",
       "WH_regional_zone                 object\n",
       "num_refill_req_l3m                int64\n",
       "transport_issue_l1y               int64\n",
       "Competitor_in_mkt                 int64\n",
       "retail_shop_num                   int64\n",
       "wh_owner_type                    object\n",
       "distributor_num                   int64\n",
       "flood_impacted                    int64\n",
       "flood_proof                       int64\n",
       "electric_supply                   int64\n",
       "dist_from_hub                     int64\n",
       "workers_num                     float64\n",
       "wh_est_year                     float64\n",
       "storage_issue_reported_l3m        int64\n",
       "temp_reg_mach                     int64\n",
       "approved_wh_govt_certificate     object\n",
       "wh_breakdown_l3m                  int64\n",
       "govt_check_l3m                    int64\n",
       "product_wg_ton                    int64\n",
       "dtype: object"
      ]
     },
     "execution_count": 8,
     "metadata": {},
     "output_type": "execute_result"
    }
   ],
   "source": [
    "df.dtypes"
   ]
  },
  {
   "cell_type": "code",
   "execution_count": null,
   "id": "9c8a8ef2",
   "metadata": {},
   "outputs": [],
   "source": []
  },
  {
   "cell_type": "code",
   "execution_count": null,
   "id": "e13d2288",
   "metadata": {},
   "outputs": [],
   "source": []
  },
  {
   "cell_type": "code",
   "execution_count": null,
   "id": "bf0b081f",
   "metadata": {},
   "outputs": [],
   "source": []
  },
  {
   "cell_type": "code",
   "execution_count": null,
   "id": "d44971bd",
   "metadata": {},
   "outputs": [],
   "source": []
  },
  {
   "cell_type": "code",
   "execution_count": null,
   "id": "4b09f4f4",
   "metadata": {},
   "outputs": [],
   "source": []
  },
  {
   "cell_type": "code",
   "execution_count": null,
   "id": "ccfc56a7",
   "metadata": {},
   "outputs": [],
   "source": []
  },
  {
   "cell_type": "code",
   "execution_count": null,
   "id": "a1452424",
   "metadata": {},
   "outputs": [],
   "source": []
  },
  {
   "cell_type": "code",
   "execution_count": null,
   "id": "bf497c34",
   "metadata": {},
   "outputs": [],
   "source": []
  },
  {
   "cell_type": "code",
   "execution_count": null,
   "id": "d881153c",
   "metadata": {},
   "outputs": [],
   "source": []
  },
  {
   "cell_type": "markdown",
   "id": "5471c071",
   "metadata": {},
   "source": [
    "# EDA"
   ]
  },
  {
   "cell_type": "code",
   "execution_count": 9,
   "id": "8aaf8bd2",
   "metadata": {},
   "outputs": [],
   "source": [
    "\n",
    "\n",
    "# Unique values in the \"WH_capacity_size\" column\n",
    "unique_capacity_sizes = df['WH_capacity_size'].unique()\n",
    "\n",
    "# Unique values in the \"flood_impacted\" column\n",
    "unique_flood_impacted = df['flood_impacted'].unique()\n"
   ]
  },
  {
   "cell_type": "code",
   "execution_count": 10,
   "id": "1a2ce593",
   "metadata": {},
   "outputs": [
    {
     "data": {
      "text/plain": [
       "array(['Small', 'Large', 'Mid'], dtype=object)"
      ]
     },
     "execution_count": 10,
     "metadata": {},
     "output_type": "execute_result"
    }
   ],
   "source": [
    "unique_capacity_sizes"
   ]
  },
  {
   "cell_type": "code",
   "execution_count": 11,
   "id": "b236e981",
   "metadata": {},
   "outputs": [
    {
     "data": {
      "text/plain": [
       "array([0, 1])"
      ]
     },
     "execution_count": 11,
     "metadata": {},
     "output_type": "execute_result"
    }
   ],
   "source": [
    "unique_flood_impacted"
   ]
  },
  {
   "cell_type": "code",
   "execution_count": 12,
   "id": "c05227b3",
   "metadata": {},
   "outputs": [
    {
     "data": {
      "text/plain": [
       "(9192, 24)"
      ]
     },
     "execution_count": 12,
     "metadata": {},
     "output_type": "execute_result"
    }
   ],
   "source": [
    "L0 = df[(df['WH_capacity_size'] =='Large') & (df['flood_impacted'] == 0) ]\n",
    "L0.shape"
   ]
  },
  {
   "cell_type": "code",
   "execution_count": 13,
   "id": "d749e285",
   "metadata": {},
   "outputs": [
    {
     "data": {
      "text/plain": [
       "(9040, 24)"
      ]
     },
     "execution_count": 13,
     "metadata": {},
     "output_type": "execute_result"
    }
   ],
   "source": [
    "M0 = df[(df['WH_capacity_size'] =='Mid') & (df['flood_impacted'] == 0) ]\n",
    "M0.shape"
   ]
  },
  {
   "cell_type": "code",
   "execution_count": 14,
   "id": "17a89bb8",
   "metadata": {},
   "outputs": [
    {
     "data": {
      "text/plain": [
       "(4314, 24)"
      ]
     },
     "execution_count": 14,
     "metadata": {},
     "output_type": "execute_result"
    }
   ],
   "source": [
    "S0 = df[(df['WH_capacity_size'] =='Small') & (df['flood_impacted'] == 0) ]\n",
    "S0.shape"
   ]
  },
  {
   "cell_type": "code",
   "execution_count": 15,
   "id": "60cf99a8",
   "metadata": {},
   "outputs": [
    {
     "data": {
      "text/plain": [
       "(977, 24)"
      ]
     },
     "execution_count": 15,
     "metadata": {},
     "output_type": "execute_result"
    }
   ],
   "source": [
    "L1 = df[(df['WH_capacity_size'] =='Large') & (df['flood_impacted'] == 1) ].shape\n",
    "L1"
   ]
  },
  {
   "cell_type": "code",
   "execution_count": 16,
   "id": "4463d345",
   "metadata": {},
   "outputs": [
    {
     "data": {
      "text/plain": [
       "(980, 24)"
      ]
     },
     "execution_count": 16,
     "metadata": {},
     "output_type": "execute_result"
    }
   ],
   "source": [
    "M1 = df[(df['WH_capacity_size'] =='Mid') & (df['flood_impacted'] == 1) ].shape\n",
    "M1"
   ]
  },
  {
   "cell_type": "code",
   "execution_count": 17,
   "id": "455e28d2",
   "metadata": {},
   "outputs": [
    {
     "data": {
      "text/plain": [
       "(980, 24)"
      ]
     },
     "execution_count": 17,
     "metadata": {},
     "output_type": "execute_result"
    }
   ],
   "source": [
    "S1 = df[(df['WH_capacity_size'] =='Mid') & (df['flood_impacted'] == 1) ].shape\n",
    "S1"
   ]
  },
  {
   "cell_type": "code",
   "execution_count": 18,
   "id": "5da6ba8a",
   "metadata": {},
   "outputs": [
    {
     "data": {
      "text/html": [
       "<div>\n",
       "<style scoped>\n",
       "    .dataframe tbody tr th:only-of-type {\n",
       "        vertical-align: middle;\n",
       "    }\n",
       "\n",
       "    .dataframe tbody tr th {\n",
       "        vertical-align: top;\n",
       "    }\n",
       "\n",
       "    .dataframe thead th {\n",
       "        text-align: right;\n",
       "    }\n",
       "</style>\n",
       "<table border=\"1\" class=\"dataframe\">\n",
       "  <thead>\n",
       "    <tr style=\"text-align: right;\">\n",
       "      <th></th>\n",
       "      <th>Ware_house_ID</th>\n",
       "      <th>WH_Manager_ID</th>\n",
       "      <th>Location_type</th>\n",
       "      <th>WH_capacity_size</th>\n",
       "      <th>zone</th>\n",
       "      <th>WH_regional_zone</th>\n",
       "      <th>num_refill_req_l3m</th>\n",
       "      <th>transport_issue_l1y</th>\n",
       "      <th>Competitor_in_mkt</th>\n",
       "      <th>retail_shop_num</th>\n",
       "      <th>wh_owner_type</th>\n",
       "      <th>distributor_num</th>\n",
       "      <th>flood_impacted</th>\n",
       "      <th>flood_proof</th>\n",
       "      <th>electric_supply</th>\n",
       "      <th>dist_from_hub</th>\n",
       "      <th>workers_num</th>\n",
       "      <th>wh_est_year</th>\n",
       "      <th>storage_issue_reported_l3m</th>\n",
       "      <th>temp_reg_mach</th>\n",
       "      <th>approved_wh_govt_certificate</th>\n",
       "      <th>wh_breakdown_l3m</th>\n",
       "      <th>govt_check_l3m</th>\n",
       "      <th>product_wg_ton</th>\n",
       "    </tr>\n",
       "  </thead>\n",
       "  <tbody>\n",
       "    <tr>\n",
       "      <th>1</th>\n",
       "      <td>WH_100001</td>\n",
       "      <td>EID_50001</td>\n",
       "      <td>Rural</td>\n",
       "      <td>Large</td>\n",
       "      <td>North</td>\n",
       "      <td>Zone 5</td>\n",
       "      <td>0</td>\n",
       "      <td>0</td>\n",
       "      <td>4</td>\n",
       "      <td>6217</td>\n",
       "      <td>Company Owned</td>\n",
       "      <td>47</td>\n",
       "      <td>0</td>\n",
       "      <td>0</td>\n",
       "      <td>1</td>\n",
       "      <td>210</td>\n",
       "      <td>31.0</td>\n",
       "      <td>NaN</td>\n",
       "      <td>4</td>\n",
       "      <td>0</td>\n",
       "      <td>A</td>\n",
       "      <td>3</td>\n",
       "      <td>17</td>\n",
       "      <td>5074</td>\n",
       "    </tr>\n",
       "    <tr>\n",
       "      <th>6</th>\n",
       "      <td>WH_100006</td>\n",
       "      <td>EID_50006</td>\n",
       "      <td>Rural</td>\n",
       "      <td>Large</td>\n",
       "      <td>West</td>\n",
       "      <td>Zone 6</td>\n",
       "      <td>8</td>\n",
       "      <td>0</td>\n",
       "      <td>4</td>\n",
       "      <td>4449</td>\n",
       "      <td>Company Owned</td>\n",
       "      <td>38</td>\n",
       "      <td>0</td>\n",
       "      <td>0</td>\n",
       "      <td>1</td>\n",
       "      <td>77</td>\n",
       "      <td>27.0</td>\n",
       "      <td>2010.0</td>\n",
       "      <td>24</td>\n",
       "      <td>0</td>\n",
       "      <td>B</td>\n",
       "      <td>3</td>\n",
       "      <td>6</td>\n",
       "      <td>30142</td>\n",
       "    </tr>\n",
       "    <tr>\n",
       "      <th>7</th>\n",
       "      <td>WH_100007</td>\n",
       "      <td>EID_50007</td>\n",
       "      <td>Rural</td>\n",
       "      <td>Large</td>\n",
       "      <td>North</td>\n",
       "      <td>Zone 5</td>\n",
       "      <td>1</td>\n",
       "      <td>0</td>\n",
       "      <td>4</td>\n",
       "      <td>7183</td>\n",
       "      <td>Rented</td>\n",
       "      <td>45</td>\n",
       "      <td>0</td>\n",
       "      <td>0</td>\n",
       "      <td>0</td>\n",
       "      <td>241</td>\n",
       "      <td>23.0</td>\n",
       "      <td>NaN</td>\n",
       "      <td>18</td>\n",
       "      <td>0</td>\n",
       "      <td>C</td>\n",
       "      <td>6</td>\n",
       "      <td>24</td>\n",
       "      <td>24093</td>\n",
       "    </tr>\n",
       "    <tr>\n",
       "      <th>10</th>\n",
       "      <td>WH_100010</td>\n",
       "      <td>EID_50010</td>\n",
       "      <td>Rural</td>\n",
       "      <td>Large</td>\n",
       "      <td>North</td>\n",
       "      <td>Zone 6</td>\n",
       "      <td>7</td>\n",
       "      <td>1</td>\n",
       "      <td>3</td>\n",
       "      <td>4623</td>\n",
       "      <td>Company Owned</td>\n",
       "      <td>31</td>\n",
       "      <td>0</td>\n",
       "      <td>0</td>\n",
       "      <td>1</td>\n",
       "      <td>150</td>\n",
       "      <td>37.0</td>\n",
       "      <td>1999.0</td>\n",
       "      <td>17</td>\n",
       "      <td>0</td>\n",
       "      <td>B+</td>\n",
       "      <td>4</td>\n",
       "      <td>6</td>\n",
       "      <td>21125</td>\n",
       "    </tr>\n",
       "    <tr>\n",
       "      <th>11</th>\n",
       "      <td>WH_100011</td>\n",
       "      <td>EID_50011</td>\n",
       "      <td>Rural</td>\n",
       "      <td>Large</td>\n",
       "      <td>North</td>\n",
       "      <td>Zone 6</td>\n",
       "      <td>7</td>\n",
       "      <td>0</td>\n",
       "      <td>5</td>\n",
       "      <td>4627</td>\n",
       "      <td>Rented</td>\n",
       "      <td>40</td>\n",
       "      <td>0</td>\n",
       "      <td>0</td>\n",
       "      <td>0</td>\n",
       "      <td>225</td>\n",
       "      <td>16.0</td>\n",
       "      <td>2017.0</td>\n",
       "      <td>11</td>\n",
       "      <td>0</td>\n",
       "      <td>B</td>\n",
       "      <td>2</td>\n",
       "      <td>28</td>\n",
       "      <td>14115</td>\n",
       "    </tr>\n",
       "  </tbody>\n",
       "</table>\n",
       "</div>"
      ],
      "text/plain": [
       "   Ware_house_ID WH_Manager_ID Location_type WH_capacity_size   zone  \\\n",
       "1      WH_100001     EID_50001         Rural            Large  North   \n",
       "6      WH_100006     EID_50006         Rural            Large   West   \n",
       "7      WH_100007     EID_50007         Rural            Large  North   \n",
       "10     WH_100010     EID_50010         Rural            Large  North   \n",
       "11     WH_100011     EID_50011         Rural            Large  North   \n",
       "\n",
       "   WH_regional_zone  num_refill_req_l3m  transport_issue_l1y  \\\n",
       "1            Zone 5                   0                    0   \n",
       "6            Zone 6                   8                    0   \n",
       "7            Zone 5                   1                    0   \n",
       "10           Zone 6                   7                    1   \n",
       "11           Zone 6                   7                    0   \n",
       "\n",
       "    Competitor_in_mkt  retail_shop_num  wh_owner_type  distributor_num  \\\n",
       "1                   4             6217  Company Owned               47   \n",
       "6                   4             4449  Company Owned               38   \n",
       "7                   4             7183         Rented               45   \n",
       "10                  3             4623  Company Owned               31   \n",
       "11                  5             4627         Rented               40   \n",
       "\n",
       "    flood_impacted  flood_proof  electric_supply  dist_from_hub  workers_num  \\\n",
       "1                0            0                1            210         31.0   \n",
       "6                0            0                1             77         27.0   \n",
       "7                0            0                0            241         23.0   \n",
       "10               0            0                1            150         37.0   \n",
       "11               0            0                0            225         16.0   \n",
       "\n",
       "    wh_est_year  storage_issue_reported_l3m  temp_reg_mach  \\\n",
       "1           NaN                           4              0   \n",
       "6        2010.0                          24              0   \n",
       "7           NaN                          18              0   \n",
       "10       1999.0                          17              0   \n",
       "11       2017.0                          11              0   \n",
       "\n",
       "   approved_wh_govt_certificate  wh_breakdown_l3m  govt_check_l3m  \\\n",
       "1                             A                 3              17   \n",
       "6                             B                 3               6   \n",
       "7                             C                 6              24   \n",
       "10                           B+                 4               6   \n",
       "11                            B                 2              28   \n",
       "\n",
       "    product_wg_ton  \n",
       "1             5074  \n",
       "6            30142  \n",
       "7            24093  \n",
       "10           21125  \n",
       "11           14115  "
      ]
     },
     "execution_count": 18,
     "metadata": {},
     "output_type": "execute_result"
    }
   ],
   "source": [
    "L0.head()"
   ]
  },
  {
   "cell_type": "code",
   "execution_count": 19,
   "id": "e1e56412",
   "metadata": {},
   "outputs": [
    {
     "data": {
      "text/plain": [
       "203405853"
      ]
     },
     "execution_count": 19,
     "metadata": {},
     "output_type": "execute_result"
    }
   ],
   "source": [
    "L0['product_wg_ton'].sum()"
   ]
  },
  {
   "cell_type": "markdown",
   "id": "b2e8986b",
   "metadata": {},
   "source": [
    "L0: có 9192 wh với năng suất 203,405,853 (40.76% wh với 40.80%)\n",
    "M0: có 9040 wh với năng suất 200,322,825 (40.09% wh với 40.18%)\n",
    "S0: có 4314 wh với năng suất 94,795,774  (19.13% wh với 19.10%)"
   ]
  },
  {
   "cell_type": "code",
   "execution_count": 20,
   "id": "63100069",
   "metadata": {},
   "outputs": [
    {
     "data": {
      "text/plain": [
       "200322825"
      ]
     },
     "execution_count": 20,
     "metadata": {},
     "output_type": "execute_result"
    }
   ],
   "source": [
    "M0['product_wg_ton'].sum()"
   ]
  },
  {
   "cell_type": "code",
   "execution_count": 21,
   "id": "41cca9e9",
   "metadata": {},
   "outputs": [
    {
     "data": {
      "text/plain": [
       "94795774"
      ]
     },
     "execution_count": 21,
     "metadata": {},
     "output_type": "execute_result"
    }
   ],
   "source": [
    "S0['product_wg_ton'].sum()"
   ]
  },
  {
   "cell_type": "code",
   "execution_count": 22,
   "id": "473e0618",
   "metadata": {},
   "outputs": [
    {
     "data": {
      "text/plain": [
       "0.19134214494810609"
      ]
     },
     "execution_count": 22,
     "metadata": {},
     "output_type": "execute_result"
    }
   ],
   "source": [
    "4314 /(9192 + 9040 + 4314)"
   ]
  },
  {
   "cell_type": "code",
   "execution_count": 23,
   "id": "d4fc1618",
   "metadata": {},
   "outputs": [
    {
     "data": {
      "text/plain": [
       "0.19015270689270022"
      ]
     },
     "execution_count": 23,
     "metadata": {},
     "output_type": "execute_result"
    }
   ],
   "source": [
    "94795774 / (203405853 +200322825 + 94795774)"
   ]
  },
  {
   "cell_type": "markdown",
   "id": "20c9af40",
   "metadata": {},
   "source": [
    "L0 và M0 có sự ngang bằng. Vậy có nên duy trì wh Large không vì Large sẽ tốn chi phí duy trì hơn trong khi số lương ship bằng nhau"
   ]
  },
  {
   "cell_type": "code",
   "execution_count": 24,
   "id": "85f64b02",
   "metadata": {},
   "outputs": [],
   "source": [
    "#drop NA\n",
    "df = df.dropna()"
   ]
  },
  {
   "cell_type": "code",
   "execution_count": 25,
   "id": "24da5595",
   "metadata": {},
   "outputs": [],
   "source": [
    "# Tạo các nhóm dựa trên region/zone\n",
    "by_region_zone = df.groupby(['zone', 'WH_regional_zone'])['product_wg_ton'].sum()\n",
    "\n",
    "# Tạo các nhóm dựa trên location type\n",
    "by_location_type = df.groupby('Location_type')['product_wg_ton'].sum()\n",
    "\n",
    "# Tạo các nhóm dựa trên owner type\n",
    "by_owner_type = df.groupby('wh_owner_type')['product_wg_ton'].sum()\n",
    "\n",
    "# Tạo các nhóm dựa trên Flood Affect\n",
    "by_flood_affect = df.groupby('flood_impacted')['product_wg_ton'].sum()\n",
    "\n",
    "# Tạo các nhóm dựa trên Size\n",
    "by_size = df.groupby('WH_capacity_size')['product_wg_ton'].sum()\n",
    "\n",
    "# Tạo các nhóm dựa trên Certificated\n",
    "by_certificated = df.groupby('approved_wh_govt_certificate')['product_wg_ton'].sum()"
   ]
  },
  {
   "cell_type": "code",
   "execution_count": 26,
   "id": "480cd378",
   "metadata": {},
   "outputs": [
    {
     "data": {
      "text/plain": [
       "zone   WH_regional_zone\n",
       "East   Zone 1                380564\n",
       "       Zone 3               1381595\n",
       "       Zone 4               1899435\n",
       "       Zone 5                882624\n",
       "       Zone 6                749329\n",
       "North  Zone 1               9913534\n",
       "       Zone 2               9648994\n",
       "       Zone 3              11275610\n",
       "       Zone 4              14524822\n",
       "       Zone 5              23017638\n",
       "       Zone 6              54006429\n",
       "South  Zone 1               7255973\n",
       "       Zone 2              17461051\n",
       "       Zone 3               9564808\n",
       "       Zone 4              10041240\n",
       "       Zone 5              12576097\n",
       "       Zone 6              15930646\n",
       "West   Zone 1               5755848\n",
       "       Zone 2               8851601\n",
       "       Zone 3              11805659\n",
       "       Zone 4              24367078\n",
       "       Zone 5              17598922\n",
       "       Zone 6              29029703\n",
       "Name: product_wg_ton, dtype: int64"
      ]
     },
     "execution_count": 26,
     "metadata": {},
     "output_type": "execute_result"
    }
   ],
   "source": [
    "by_region_zone"
   ]
  },
  {
   "cell_type": "code",
   "execution_count": 27,
   "id": "81e9ff76",
   "metadata": {},
   "outputs": [
    {
     "data": {
      "text/plain": [
       "Location_type\n",
       "Rural    268856572\n",
       "Urban     29062628\n",
       "Name: product_wg_ton, dtype: int64"
      ]
     },
     "execution_count": 27,
     "metadata": {},
     "output_type": "execute_result"
    }
   ],
   "source": [
    "by_location_type"
   ]
  },
  {
   "cell_type": "code",
   "execution_count": 28,
   "id": "36775be4",
   "metadata": {},
   "outputs": [
    {
     "data": {
      "text/plain": [
       "wh_owner_type\n",
       "Company Owned    161697924\n",
       "Rented           136221276\n",
       "Name: product_wg_ton, dtype: int64"
      ]
     },
     "execution_count": 28,
     "metadata": {},
     "output_type": "execute_result"
    }
   ],
   "source": [
    "by_owner_type"
   ]
  },
  {
   "cell_type": "code",
   "execution_count": 29,
   "id": "35a420bd",
   "metadata": {},
   "outputs": [
    {
     "data": {
      "text/plain": [
       "flood_impacted\n",
       "0    270834667\n",
       "1     27084533\n",
       "Name: product_wg_ton, dtype: int64"
      ]
     },
     "execution_count": 29,
     "metadata": {},
     "output_type": "execute_result"
    }
   ],
   "source": [
    "by_flood_affect"
   ]
  },
  {
   "cell_type": "code",
   "execution_count": 30,
   "id": "26b47988",
   "metadata": {},
   "outputs": [
    {
     "data": {
      "text/plain": [
       "WH_capacity_size\n",
       "Large    121999335\n",
       "Mid      120821893\n",
       "Small     55097972\n",
       "Name: product_wg_ton, dtype: int64"
      ]
     },
     "execution_count": 30,
     "metadata": {},
     "output_type": "execute_result"
    }
   ],
   "source": [
    "by_size"
   ]
  },
  {
   "cell_type": "code",
   "execution_count": 31,
   "id": "aebbecc7",
   "metadata": {},
   "outputs": [
    {
     "data": {
      "text/plain": [
       "approved_wh_govt_certificate\n",
       "A     61351328\n",
       "A+    61840454\n",
       "B     56611106\n",
       "B+    56901207\n",
       "C     61215105\n",
       "Name: product_wg_ton, dtype: int64"
      ]
     },
     "execution_count": 31,
     "metadata": {},
     "output_type": "execute_result"
    }
   ],
   "source": [
    "by_certificated"
   ]
  },
  {
   "cell_type": "code",
   "execution_count": 32,
   "id": "04994120",
   "metadata": {},
   "outputs": [
    {
     "data": {
      "image/png": "[encoded data removed]",
      "text/plain": [
       "<Figure size 1200x600 with 1 Axes>"
      ]
     },
     "metadata": {},
     "output_type": "display_data"
    }
   ],
   "source": [
    "# Calculate the sum of product_wg_ton for each zone\n",
    "zone_totals = df.groupby('zone')['product_wg_ton'].sum().reset_index()\n",
    "\n",
    "# Find the zone with the highest sum of product_wg_ton\n",
    "max_total_zone = zone_totals.loc[zone_totals['product_wg_ton'].idxmax(), 'zone']\n",
    "\n",
    "# Create a list of colors to highlight the highest sum in red and others in grey\n",
    "colors = ['red' if zone == max_total_zone else 'grey' for zone in zone_totals['zone']]\n",
    "\n",
    "# Create the barplot\n",
    "plt.figure(figsize=(12, 6))\n",
    "sns.barplot(x='zone', y='product_wg_ton', data=zone_totals, palette=colors)\n",
    "plt.title('Total Product Weight (product_wg_ton) by Zone')\n",
    "plt.xlabel('Zone')\n",
    "plt.ylabel('Total Product Weight (tons)')\n",
    "plt.xticks(rotation=45)\n",
    "plt.show()\n"
   ]
  },
  {
   "cell_type": "code",
   "execution_count": 33,
   "id": "4940f159",
   "metadata": {},
   "outputs": [
    {
     "data": {
      "text/plain": [
       "Index(['Ware_house_ID', 'WH_Manager_ID', 'Location_type', 'WH_capacity_size',\n",
       "       'zone', 'WH_regional_zone', 'num_refill_req_l3m', 'transport_issue_l1y',\n",
       "       'Competitor_in_mkt', 'retail_shop_num', 'wh_owner_type',\n",
       "       'distributor_num', 'flood_impacted', 'flood_proof', 'electric_supply',\n",
       "       'dist_from_hub', 'workers_num', 'wh_est_year',\n",
       "       'storage_issue_reported_l3m', 'temp_reg_mach',\n",
       "       'approved_wh_govt_certificate', 'wh_breakdown_l3m', 'govt_check_l3m',\n",
       "       'product_wg_ton'],\n",
       "      dtype='object')"
      ]
     },
     "execution_count": 33,
     "metadata": {},
     "output_type": "execute_result"
    }
   ],
   "source": [
    "df.columns.T"
   ]
  },
  {
   "cell_type": "code",
   "execution_count": 34,
   "id": "28125c30",
   "metadata": {},
   "outputs": [
    {
     "data": {
      "image/png": "[encoded data removed]",
      "text/plain": [
       "<Figure size 1200x600 with 1 Axes>"
      ]
     },
     "metadata": {},
     "output_type": "display_data"
    }
   ],
   "source": [
    "# Calculate the sum of product_wg_ton for each WH_regional_zone\n",
    "wh_regional_zone_totals = df.groupby('WH_regional_zone')['product_wg_ton'].sum().reset_index()\n",
    "\n",
    "# Find the WH_regional_zone with the highest sum of product_wg_ton\n",
    "max_total_wh_regional_zone = wh_regional_zone_totals.loc[wh_regional_zone_totals['product_wg_ton'].idxmax(), 'WH_regional_zone']\n",
    "\n",
    "# Create a list of colors to highlight the highest sum in red and others in grey\n",
    "colors = ['red' if zone == max_total_wh_regional_zone else 'grey' for zone in wh_regional_zone_totals['WH_regional_zone']]\n",
    "\n",
    "# Create the barplot\n",
    "plt.figure(figsize=(12, 6))\n",
    "sns.barplot(x='WH_regional_zone', y='product_wg_ton', data=wh_regional_zone_totals, palette=colors)\n",
    "plt.title('Total Product Weight (product_wg_ton) by WH Regional Zone')\n",
    "plt.xlabel('WH Regional Zone')\n",
    "plt.ylabel('Total Product Weight (tons)')\n",
    "plt.xticks(rotation=45)\n",
    "plt.show()\n"
   ]
  },
  {
   "cell_type": "code",
   "execution_count": 35,
   "id": "24c43619",
   "metadata": {},
   "outputs": [
    {
     "data": {
      "image/png": "[encoded data removed]",
      "text/plain": [
       "<Figure size 1200x600 with 1 Axes>"
      ]
     },
     "metadata": {},
     "output_type": "display_data"
    }
   ],
   "source": [
    "# Calculate the sum of product_wg_ton for each Location_type\n",
    "location_type_totals = df.groupby('Location_type')['product_wg_ton'].sum().reset_index()\n",
    "\n",
    "# Find the Location_type with the highest sum of product_wg_ton\n",
    "max_total_location_type = location_type_totals.loc[location_type_totals['product_wg_ton'].idxmax(), 'Location_type']\n",
    "\n",
    "# Create a list of colors to highlight the highest sum in red and others in grey\n",
    "colors = ['red' if location == max_total_location_type else 'grey' for location in location_type_totals['Location_type']]\n",
    "\n",
    "# Create the barplot\n",
    "plt.figure(figsize=(12, 6))\n",
    "sns.barplot(x='Location_type', y='product_wg_ton', data=location_type_totals, palette=colors)\n",
    "plt.title('Total Product Weight (product_wg_ton) by Location Type')\n",
    "plt.xlabel('Location Type')\n",
    "plt.ylabel('Total Product Weight (tons)')\n",
    "plt.xticks(rotation=45)\n",
    "plt.show()"
   ]
  },
  {
   "cell_type": "code",
   "execution_count": 36,
   "id": "c2442c25",
   "metadata": {},
   "outputs": [
    {
     "data": {
      "image/png": "[encoded data removed]",
      "text/plain": [
       "<Figure size 1200x600 with 1 Axes>"
      ]
     },
     "metadata": {},
     "output_type": "display_data"
    }
   ],
   "source": [
    "# Calculate the sum of product_wg_ton for each zone\n",
    "zone_totals = df.groupby('zone')['product_wg_ton'].sum().reset_index()\n",
    "\n",
    "# Find the zone with the highest sum of product_wg_ton\n",
    "max_total_zone = zone_totals.loc[zone_totals['product_wg_ton'].idxmax(), 'zone']\n",
    "\n",
    "# Calculate the total sum of product_wg_ton\n",
    "total_product_wg_ton = zone_totals['product_wg_ton'].sum()\n",
    "\n",
    "# Calculate the percentage of product_wg_ton for each zone\n",
    "zone_totals['percentage'] = (zone_totals['product_wg_ton'] / total_product_wg_ton) * 100\n",
    "\n",
    "# Create a list of colors to highlight the highest sum in red and others in grey\n",
    "colors = ['red' if zone == max_total_zone else 'grey' for zone in zone_totals['zone']]\n",
    "\n",
    "# Create the barplot\n",
    "plt.figure(figsize=(12, 6))\n",
    "ax = sns.barplot(x='zone', y='percentage', data=zone_totals, palette=colors)\n",
    "plt.title('Percentage of Total Product Weight (product_wg_ton) by Zone')\n",
    "plt.xlabel('Zone')\n",
    "plt.ylabel('Percentage of Total Product Weight (%)')\n",
    "plt.xticks(rotation=45)\n",
    "\n",
    "# Add percentage labels on top of the bars\n",
    "for p in ax.patches:\n",
    "    height = p.get_height()\n",
    "    ax.annotate(f'{height:.2f}%', (p.get_x() + p.get_width() / 2., height),\n",
    "                ha='center', va='bottom')\n",
    "\n",
    "plt.show()"
   ]
  },
  {
   "cell_type": "code",
   "execution_count": 37,
   "id": "8f2b8060",
   "metadata": {},
   "outputs": [
    {
     "data": {
      "image/png": "[encoded data removed]",
      "text/plain": [
       "<Figure size 1200x600 with 1 Axes>"
      ]
     },
     "metadata": {},
     "output_type": "display_data"
    }
   ],
   "source": [
    "# Calculate the sum of product_wg_ton for each Location_type\n",
    "location_type_totals = df.groupby('Location_type')['product_wg_ton'].sum().reset_index()\n",
    "\n",
    "# Calculate the percentage of product_wg_ton for each Location_type relative to the total\n",
    "location_type_totals['percentage'] = (location_type_totals['product_wg_ton'] / location_type_totals['product_wg_ton'].sum()) * 100\n",
    "\n",
    "# Create a list of colors to highlight the highest sum in red and others in grey\n",
    "colors = ['red' if location == location_type_totals.loc[location_type_totals['percentage'].idxmax(), 'Location_type'] else 'grey' for location in location_type_totals['Location_type']]\n",
    "\n",
    "# Create the barplot\n",
    "plt.figure(figsize=(12, 6))\n",
    "ax = sns.barplot(x='Location_type', y='percentage', data=location_type_totals, palette=colors)\n",
    "plt.title('Percentage of Total Product Weight (product_wg_ton) by Location Type')\n",
    "plt.xlabel('Location Type')\n",
    "plt.ylabel('Percentage of Total Product Weight (%)')\n",
    "plt.xticks(rotation=45)\n",
    "\n",
    "# Add percentage labels on top of the bars\n",
    "for p in ax.patches:\n",
    "    height = p.get_height()\n",
    "    ax.annotate(f'{height:.2f}%', (p.get_x() + p.get_width() / 2., height),\n",
    "                ha='center', va='bottom')\n",
    "\n",
    "plt.show()\n"
   ]
  },
  {
   "cell_type": "code",
   "execution_count": 38,
   "id": "c2daeeb1",
   "metadata": {},
   "outputs": [
    {
     "data": {
      "image/png": "[encoded data removed]",
      "text/plain": [
       "<Figure size 1200x600 with 1 Axes>"
      ]
     },
     "metadata": {},
     "output_type": "display_data"
    }
   ],
   "source": [
    "# Calculate the sum of product_wg_ton for each WH_capacity_size\n",
    "wh_capacity_size_totals = df.groupby('WH_capacity_size')['product_wg_ton'].sum().reset_index()\n",
    "\n",
    "# Calculate the percentage of product_wg_ton for each WH_capacity_size relative to the total\n",
    "wh_capacity_size_totals['percentage'] = (wh_capacity_size_totals['product_wg_ton'] / wh_capacity_size_totals['product_wg_ton'].sum()) * 100\n",
    "\n",
    "# Create a list of colors to highlight the highest sum in red and others in grey\n",
    "colors = ['red' if capacity == wh_capacity_size_totals.loc[wh_capacity_size_totals['percentage'].idxmax(), 'WH_capacity_size'] else 'grey' for capacity in wh_capacity_size_totals['WH_capacity_size']]\n",
    "\n",
    "# Create the barplot\n",
    "plt.figure(figsize=(12, 6))\n",
    "ax = sns.barplot(x='WH_capacity_size', y='percentage', data=wh_capacity_size_totals, palette=colors)\n",
    "plt.title('Percentage of Total Product Weight (product_wg_ton) by Warehouse Capacity Size')\n",
    "plt.xlabel('Warehouse Capacity Size')\n",
    "plt.ylabel('Percentage of Total Product Weight (%)')\n",
    "plt.xticks(rotation=45)\n",
    "\n",
    "# Add percentage labels on top of the bars\n",
    "for p in ax.patches:\n",
    "    height = p.get_height()\n",
    "    ax.annotate(f'{height:.2f}%', (p.get_x() + p.get_width() / 2., height),\n",
    "                ha='center', va='bottom')\n",
    "\n",
    "plt.show()\n"
   ]
  },
  {
   "cell_type": "code",
   "execution_count": 39,
   "id": "82494b22",
   "metadata": {},
   "outputs": [
    {
     "data": {
      "image/png": "[encoded data removed]",
      "text/plain": [
       "<Figure size 1200x600 with 1 Axes>"
      ]
     },
     "metadata": {},
     "output_type": "display_data"
    }
   ],
   "source": [
    "# Calculate the sum of product_wg_ton for each wh_owner_type\n",
    "wh_owner_type_totals = df.groupby('wh_owner_type')['product_wg_ton'].sum().reset_index()\n",
    "\n",
    "# Calculate the percentage of product_wg_ton for each wh_owner_type relative to the total\n",
    "wh_owner_type_totals['percentage'] = (wh_owner_type_totals['product_wg_ton'] / wh_owner_type_totals['product_wg_ton'].sum()) * 100\n",
    "\n",
    "# Create a list of colors to highlight the highest sum in red and others in grey\n",
    "colors = ['red' if owner_type == wh_owner_type_totals.loc[wh_owner_type_totals['percentage'].idxmax(), 'wh_owner_type'] else 'grey' for owner_type in wh_owner_type_totals['wh_owner_type']]\n",
    "\n",
    "# Create the barplot\n",
    "plt.figure(figsize=(12, 6))\n",
    "ax = sns.barplot(x='wh_owner_type', y='percentage', data=wh_owner_type_totals, palette=colors)\n",
    "plt.title('Percentage of Total Product Weight (product_wg_ton) by Warehouse Owner Type')\n",
    "plt.xlabel('Warehouse Owner Type')\n",
    "plt.ylabel('Percentage of Total Product Weight (%)')\n",
    "plt.xticks(rotation=45)\n",
    "\n",
    "# Add percentage labels on top of the bars\n",
    "for p in ax.patches:\n",
    "    height = p.get_height()\n",
    "    ax.annotate(f'{height:.2f}%', (p.get_x() + p.get_width() / 2., height),\n",
    "                ha='center', va='bottom')\n",
    "\n",
    "plt.show()\n"
   ]
  },
  {
   "cell_type": "code",
   "execution_count": 40,
   "id": "354f8e08",
   "metadata": {},
   "outputs": [
    {
     "data": {
      "image/png": "[encoded data removed]",
      "text/plain": [
       "<Figure size 800x600 with 1 Axes>"
      ]
     },
     "metadata": {},
     "output_type": "display_data"
    }
   ],
   "source": [
    "import matplotlib.pyplot as plt\n",
    "import seaborn as sns\n",
    "\n",
    "# Replace 0 with 'No' and 1 with 'Yes' in the 'flood_impacted' column\n",
    "df['flood_impacted'] = df['flood_impacted'].map({0: 'No', 1: 'Yes'})\n",
    "\n",
    "# Calculate the sum of product_wg_ton for each flood_impacted category\n",
    "flood_impacted_totals = df.groupby('flood_impacted')['product_wg_ton'].sum().reset_index()\n",
    "\n",
    "# Calculate the percentage of product_wg_ton for each flood_impacted category relative to the total\n",
    "total_product_wg_ton = flood_impacted_totals['product_wg_ton'].sum()\n",
    "flood_impacted_totals['percentage'] = (flood_impacted_totals['product_wg_ton'] / total_product_wg_ton) * 100\n",
    "\n",
    "# Find the flood_impacted category with the highest sum of product_wg_ton\n",
    "max_total_flood_impacted = flood_impacted_totals.loc[flood_impacted_totals['product_wg_ton'].idxmax(), 'flood_impacted']\n",
    "\n",
    "# Create a list of colors to highlight the highest sum in red and others in grey\n",
    "colors = ['red' if impact == max_total_flood_impacted else 'grey' for impact in flood_impacted_totals['flood_impacted']]\n",
    "\n",
    "# Create the barplot\n",
    "plt.figure(figsize=(8, 6))\n",
    "ax = sns.barplot(x='flood_impacted', y='percentage', data=flood_impacted_totals, palette=colors)\n",
    "plt.title('Percentage of Total Product Weight (product_wg_ton) by Flood Impact')\n",
    "plt.xlabel('Flood Impacted')\n",
    "plt.ylabel('Percentage of Total Product Weight (%)')\n",
    "\n",
    "# Add percentage labels on top of the bars\n",
    "for p in ax.patches:\n",
    "    height = p.get_height()\n",
    "    ax.annotate(f'{height:.2f}%', (p.get_x() + p.get_width() / 2., height),\n",
    "                ha='center', va='bottom')\n",
    "\n",
    "# Replace x-axis labels\n",
    "ax.set_xticklabels(['No', 'Yes'])\n",
    "\n",
    "plt.show()\n"
   ]
  },
  {
   "cell_type": "code",
   "execution_count": null,
   "id": "b5d81401",
   "metadata": {},
   "outputs": [],
   "source": []
  },
  {
   "cell_type": "markdown",
   "id": "6a93f9d3",
   "metadata": {},
   "source": [
    "# Feature engineering"
   ]
  },
  {
   "cell_type": "code",
   "execution_count": null,
   "id": "405ce654",
   "metadata": {},
   "outputs": [],
   "source": []
  },
  {
   "cell_type": "code",
   "execution_count": 41,
   "id": "d9189a19",
   "metadata": {},
   "outputs": [],
   "source": [
    "#Warehouse Age:\n",
    "df['warehouse_age'] = 2023 - df['wh_est_year']  # Assuming the current year is 2023"
   ]
  },
  {
   "cell_type": "code",
   "execution_count": null,
   "id": "98f1c440",
   "metadata": {},
   "outputs": [],
   "source": []
  },
  {
   "cell_type": "code",
   "execution_count": 42,
   "id": "59ac97a1",
   "metadata": {},
   "outputs": [],
   "source": [
    "#Total Incidents:\n",
    "df['total_incidents'] = df['transport_issue_l1y'] + df['storage_issue_reported_l3m'] + df['wh_breakdown_l3m']\n"
   ]
  },
  {
   "cell_type": "code",
   "execution_count": null,
   "id": "a837896e",
   "metadata": {},
   "outputs": [],
   "source": []
  },
  {
   "cell_type": "code",
   "execution_count": 43,
   "id": "6a0d9678",
   "metadata": {},
   "outputs": [],
   "source": [
    "#Shops per Distributor:\n",
    "df['shops_per_distributor'] = df['retail_shop_num'] / df['distributor_num'].replace(0, 1)  # To avoid division by zero\n"
   ]
  },
  {
   "cell_type": "code",
   "execution_count": 44,
   "id": "90271927",
   "metadata": {},
   "outputs": [
    {
     "name": "stdout",
     "output_type": "stream",
     "text": [
      "approved_wh_govt_certificate    object\n",
      "storage_issue_reported_l3m       int64\n",
      "wh_breakdown_l3m                 int64\n",
      "govt_check_l3m                   int64\n",
      "dtype: object\n"
     ]
    }
   ],
   "source": [
    "print(df[['approved_wh_govt_certificate', 'storage_issue_reported_l3m', 'wh_breakdown_l3m', 'govt_check_l3m']].dtypes)\n"
   ]
  },
  {
   "cell_type": "code",
   "execution_count": 45,
   "id": "41f6302a",
   "metadata": {},
   "outputs": [
    {
     "data": {
      "text/html": [
       "<div>\n",
       "<style scoped>\n",
       "    .dataframe tbody tr th:only-of-type {\n",
       "        vertical-align: middle;\n",
       "    }\n",
       "\n",
       "    .dataframe tbody tr th {\n",
       "        vertical-align: top;\n",
       "    }\n",
       "\n",
       "    .dataframe thead th {\n",
       "        text-align: right;\n",
       "    }\n",
       "</style>\n",
       "<table border=\"1\" class=\"dataframe\">\n",
       "  <thead>\n",
       "    <tr style=\"text-align: right;\">\n",
       "      <th></th>\n",
       "      <th>Ware_house_ID</th>\n",
       "      <th>WH_Manager_ID</th>\n",
       "      <th>Location_type</th>\n",
       "      <th>WH_capacity_size</th>\n",
       "      <th>zone</th>\n",
       "      <th>WH_regional_zone</th>\n",
       "      <th>num_refill_req_l3m</th>\n",
       "      <th>transport_issue_l1y</th>\n",
       "      <th>Competitor_in_mkt</th>\n",
       "      <th>retail_shop_num</th>\n",
       "      <th>wh_owner_type</th>\n",
       "      <th>distributor_num</th>\n",
       "      <th>flood_impacted</th>\n",
       "      <th>flood_proof</th>\n",
       "      <th>electric_supply</th>\n",
       "      <th>dist_from_hub</th>\n",
       "      <th>workers_num</th>\n",
       "      <th>wh_est_year</th>\n",
       "      <th>storage_issue_reported_l3m</th>\n",
       "      <th>temp_reg_mach</th>\n",
       "      <th>approved_wh_govt_certificate</th>\n",
       "      <th>wh_breakdown_l3m</th>\n",
       "      <th>govt_check_l3m</th>\n",
       "      <th>product_wg_ton</th>\n",
       "      <th>warehouse_age</th>\n",
       "      <th>total_incidents</th>\n",
       "      <th>shops_per_distributor</th>\n",
       "    </tr>\n",
       "  </thead>\n",
       "  <tbody>\n",
       "    <tr>\n",
       "      <th>4</th>\n",
       "      <td>WH_100004</td>\n",
       "      <td>EID_50004</td>\n",
       "      <td>Rural</td>\n",
       "      <td>Large</td>\n",
       "      <td>North</td>\n",
       "      <td>Zone 5</td>\n",
       "      <td>3</td>\n",
       "      <td>1</td>\n",
       "      <td>2</td>\n",
       "      <td>4740</td>\n",
       "      <td>Company Owned</td>\n",
       "      <td>42</td>\n",
       "      <td>Yes</td>\n",
       "      <td>0</td>\n",
       "      <td>1</td>\n",
       "      <td>112</td>\n",
       "      <td>25.0</td>\n",
       "      <td>2009.0</td>\n",
       "      <td>18</td>\n",
       "      <td>0</td>\n",
       "      <td>C</td>\n",
       "      <td>6</td>\n",
       "      <td>24</td>\n",
       "      <td>24071</td>\n",
       "      <td>14.0</td>\n",
       "      <td>25</td>\n",
       "      <td>112.857143</td>\n",
       "    </tr>\n",
       "    <tr>\n",
       "      <th>5</th>\n",
       "      <td>WH_100005</td>\n",
       "      <td>EID_50005</td>\n",
       "      <td>Rural</td>\n",
       "      <td>Small</td>\n",
       "      <td>West</td>\n",
       "      <td>Zone 1</td>\n",
       "      <td>8</td>\n",
       "      <td>0</td>\n",
       "      <td>2</td>\n",
       "      <td>5053</td>\n",
       "      <td>Rented</td>\n",
       "      <td>37</td>\n",
       "      <td>No</td>\n",
       "      <td>0</td>\n",
       "      <td>1</td>\n",
       "      <td>152</td>\n",
       "      <td>35.0</td>\n",
       "      <td>2009.0</td>\n",
       "      <td>23</td>\n",
       "      <td>1</td>\n",
       "      <td>A+</td>\n",
       "      <td>3</td>\n",
       "      <td>3</td>\n",
       "      <td>32134</td>\n",
       "      <td>14.0</td>\n",
       "      <td>26</td>\n",
       "      <td>136.567568</td>\n",
       "    </tr>\n",
       "    <tr>\n",
       "      <th>6</th>\n",
       "      <td>WH_100006</td>\n",
       "      <td>EID_50006</td>\n",
       "      <td>Rural</td>\n",
       "      <td>Large</td>\n",
       "      <td>West</td>\n",
       "      <td>Zone 6</td>\n",
       "      <td>8</td>\n",
       "      <td>0</td>\n",
       "      <td>4</td>\n",
       "      <td>4449</td>\n",
       "      <td>Company Owned</td>\n",
       "      <td>38</td>\n",
       "      <td>No</td>\n",
       "      <td>0</td>\n",
       "      <td>1</td>\n",
       "      <td>77</td>\n",
       "      <td>27.0</td>\n",
       "      <td>2010.0</td>\n",
       "      <td>24</td>\n",
       "      <td>0</td>\n",
       "      <td>B</td>\n",
       "      <td>3</td>\n",
       "      <td>6</td>\n",
       "      <td>30142</td>\n",
       "      <td>13.0</td>\n",
       "      <td>27</td>\n",
       "      <td>117.078947</td>\n",
       "    </tr>\n",
       "    <tr>\n",
       "      <th>8</th>\n",
       "      <td>WH_100008</td>\n",
       "      <td>EID_50008</td>\n",
       "      <td>Rural</td>\n",
       "      <td>Small</td>\n",
       "      <td>South</td>\n",
       "      <td>Zone 6</td>\n",
       "      <td>8</td>\n",
       "      <td>1</td>\n",
       "      <td>4</td>\n",
       "      <td>5381</td>\n",
       "      <td>Rented</td>\n",
       "      <td>42</td>\n",
       "      <td>No</td>\n",
       "      <td>0</td>\n",
       "      <td>1</td>\n",
       "      <td>124</td>\n",
       "      <td>22.0</td>\n",
       "      <td>2013.0</td>\n",
       "      <td>13</td>\n",
       "      <td>1</td>\n",
       "      <td>A+</td>\n",
       "      <td>5</td>\n",
       "      <td>2</td>\n",
       "      <td>18082</td>\n",
       "      <td>10.0</td>\n",
       "      <td>19</td>\n",
       "      <td>128.119048</td>\n",
       "    </tr>\n",
       "    <tr>\n",
       "      <th>10</th>\n",
       "      <td>WH_100010</td>\n",
       "      <td>EID_50010</td>\n",
       "      <td>Rural</td>\n",
       "      <td>Large</td>\n",
       "      <td>North</td>\n",
       "      <td>Zone 6</td>\n",
       "      <td>7</td>\n",
       "      <td>1</td>\n",
       "      <td>3</td>\n",
       "      <td>4623</td>\n",
       "      <td>Company Owned</td>\n",
       "      <td>31</td>\n",
       "      <td>No</td>\n",
       "      <td>0</td>\n",
       "      <td>1</td>\n",
       "      <td>150</td>\n",
       "      <td>37.0</td>\n",
       "      <td>1999.0</td>\n",
       "      <td>17</td>\n",
       "      <td>0</td>\n",
       "      <td>B+</td>\n",
       "      <td>4</td>\n",
       "      <td>6</td>\n",
       "      <td>21125</td>\n",
       "      <td>24.0</td>\n",
       "      <td>22</td>\n",
       "      <td>149.129032</td>\n",
       "    </tr>\n",
       "    <tr>\n",
       "      <th>...</th>\n",
       "      <td>...</td>\n",
       "      <td>...</td>\n",
       "      <td>...</td>\n",
       "      <td>...</td>\n",
       "      <td>...</td>\n",
       "      <td>...</td>\n",
       "      <td>...</td>\n",
       "      <td>...</td>\n",
       "      <td>...</td>\n",
       "      <td>...</td>\n",
       "      <td>...</td>\n",
       "      <td>...</td>\n",
       "      <td>...</td>\n",
       "      <td>...</td>\n",
       "      <td>...</td>\n",
       "      <td>...</td>\n",
       "      <td>...</td>\n",
       "      <td>...</td>\n",
       "      <td>...</td>\n",
       "      <td>...</td>\n",
       "      <td>...</td>\n",
       "      <td>...</td>\n",
       "      <td>...</td>\n",
       "      <td>...</td>\n",
       "      <td>...</td>\n",
       "      <td>...</td>\n",
       "      <td>...</td>\n",
       "    </tr>\n",
       "    <tr>\n",
       "      <th>201</th>\n",
       "      <td>WH_100201</td>\n",
       "      <td>EID_50201</td>\n",
       "      <td>Rural</td>\n",
       "      <td>Mid</td>\n",
       "      <td>West</td>\n",
       "      <td>Zone 3</td>\n",
       "      <td>5</td>\n",
       "      <td>4</td>\n",
       "      <td>4</td>\n",
       "      <td>6060</td>\n",
       "      <td>Rented</td>\n",
       "      <td>66</td>\n",
       "      <td>No</td>\n",
       "      <td>0</td>\n",
       "      <td>1</td>\n",
       "      <td>141</td>\n",
       "      <td>39.0</td>\n",
       "      <td>2000.0</td>\n",
       "      <td>25</td>\n",
       "      <td>0</td>\n",
       "      <td>B</td>\n",
       "      <td>6</td>\n",
       "      <td>19</td>\n",
       "      <td>29116</td>\n",
       "      <td>23.0</td>\n",
       "      <td>35</td>\n",
       "      <td>91.818182</td>\n",
       "    </tr>\n",
       "    <tr>\n",
       "      <th>202</th>\n",
       "      <td>WH_100202</td>\n",
       "      <td>EID_50202</td>\n",
       "      <td>Rural</td>\n",
       "      <td>Large</td>\n",
       "      <td>North</td>\n",
       "      <td>Zone 5</td>\n",
       "      <td>8</td>\n",
       "      <td>0</td>\n",
       "      <td>3</td>\n",
       "      <td>4796</td>\n",
       "      <td>Rented</td>\n",
       "      <td>30</td>\n",
       "      <td>No</td>\n",
       "      <td>0</td>\n",
       "      <td>1</td>\n",
       "      <td>86</td>\n",
       "      <td>33.0</td>\n",
       "      <td>2016.0</td>\n",
       "      <td>12</td>\n",
       "      <td>0</td>\n",
       "      <td>A</td>\n",
       "      <td>1</td>\n",
       "      <td>5</td>\n",
       "      <td>16130</td>\n",
       "      <td>7.0</td>\n",
       "      <td>13</td>\n",
       "      <td>159.866667</td>\n",
       "    </tr>\n",
       "    <tr>\n",
       "      <th>203</th>\n",
       "      <td>WH_100203</td>\n",
       "      <td>EID_50203</td>\n",
       "      <td>Rural</td>\n",
       "      <td>Large</td>\n",
       "      <td>North</td>\n",
       "      <td>Zone 6</td>\n",
       "      <td>6</td>\n",
       "      <td>1</td>\n",
       "      <td>2</td>\n",
       "      <td>4485</td>\n",
       "      <td>Company Owned</td>\n",
       "      <td>23</td>\n",
       "      <td>No</td>\n",
       "      <td>0</td>\n",
       "      <td>1</td>\n",
       "      <td>157</td>\n",
       "      <td>29.0</td>\n",
       "      <td>2020.0</td>\n",
       "      <td>5</td>\n",
       "      <td>0</td>\n",
       "      <td>A</td>\n",
       "      <td>2</td>\n",
       "      <td>29</td>\n",
       "      <td>7113</td>\n",
       "      <td>3.0</td>\n",
       "      <td>8</td>\n",
       "      <td>195.000000</td>\n",
       "    </tr>\n",
       "    <tr>\n",
       "      <th>206</th>\n",
       "      <td>WH_100206</td>\n",
       "      <td>EID_50206</td>\n",
       "      <td>Rural</td>\n",
       "      <td>Small</td>\n",
       "      <td>South</td>\n",
       "      <td>Zone 6</td>\n",
       "      <td>5</td>\n",
       "      <td>0</td>\n",
       "      <td>2</td>\n",
       "      <td>6765</td>\n",
       "      <td>Company Owned</td>\n",
       "      <td>62</td>\n",
       "      <td>No</td>\n",
       "      <td>0</td>\n",
       "      <td>1</td>\n",
       "      <td>157</td>\n",
       "      <td>32.0</td>\n",
       "      <td>2018.0</td>\n",
       "      <td>11</td>\n",
       "      <td>0</td>\n",
       "      <td>A</td>\n",
       "      <td>2</td>\n",
       "      <td>2</td>\n",
       "      <td>15069</td>\n",
       "      <td>5.0</td>\n",
       "      <td>13</td>\n",
       "      <td>109.112903</td>\n",
       "    </tr>\n",
       "    <tr>\n",
       "      <th>207</th>\n",
       "      <td>WH_100207</td>\n",
       "      <td>EID_50207</td>\n",
       "      <td>Rural</td>\n",
       "      <td>Mid</td>\n",
       "      <td>West</td>\n",
       "      <td>Zone 4</td>\n",
       "      <td>5</td>\n",
       "      <td>0</td>\n",
       "      <td>4</td>\n",
       "      <td>8506</td>\n",
       "      <td>Company Owned</td>\n",
       "      <td>62</td>\n",
       "      <td>No</td>\n",
       "      <td>0</td>\n",
       "      <td>0</td>\n",
       "      <td>152</td>\n",
       "      <td>36.0</td>\n",
       "      <td>1997.0</td>\n",
       "      <td>34</td>\n",
       "      <td>0</td>\n",
       "      <td>B+</td>\n",
       "      <td>4</td>\n",
       "      <td>11</td>\n",
       "      <td>43072</td>\n",
       "      <td>26.0</td>\n",
       "      <td>38</td>\n",
       "      <td>137.193548</td>\n",
       "    </tr>\n",
       "  </tbody>\n",
       "</table>\n",
       "<p>100 rows × 27 columns</p>\n",
       "</div>"
      ],
      "text/plain": [
       "    Ware_house_ID WH_Manager_ID Location_type WH_capacity_size   zone  \\\n",
       "4       WH_100004     EID_50004         Rural            Large  North   \n",
       "5       WH_100005     EID_50005         Rural            Small   West   \n",
       "6       WH_100006     EID_50006         Rural            Large   West   \n",
       "8       WH_100008     EID_50008         Rural            Small  South   \n",
       "10      WH_100010     EID_50010         Rural            Large  North   \n",
       "..            ...           ...           ...              ...    ...   \n",
       "201     WH_100201     EID_50201         Rural              Mid   West   \n",
       "202     WH_100202     EID_50202         Rural            Large  North   \n",
       "203     WH_100203     EID_50203         Rural            Large  North   \n",
       "206     WH_100206     EID_50206         Rural            Small  South   \n",
       "207     WH_100207     EID_50207         Rural              Mid   West   \n",
       "\n",
       "    WH_regional_zone  num_refill_req_l3m  transport_issue_l1y  \\\n",
       "4             Zone 5                   3                    1   \n",
       "5             Zone 1                   8                    0   \n",
       "6             Zone 6                   8                    0   \n",
       "8             Zone 6                   8                    1   \n",
       "10            Zone 6                   7                    1   \n",
       "..               ...                 ...                  ...   \n",
       "201           Zone 3                   5                    4   \n",
       "202           Zone 5                   8                    0   \n",
       "203           Zone 6                   6                    1   \n",
       "206           Zone 6                   5                    0   \n",
       "207           Zone 4                   5                    0   \n",
       "\n",
       "     Competitor_in_mkt  retail_shop_num  wh_owner_type  distributor_num  \\\n",
       "4                    2             4740  Company Owned               42   \n",
       "5                    2             5053         Rented               37   \n",
       "6                    4             4449  Company Owned               38   \n",
       "8                    4             5381         Rented               42   \n",
       "10                   3             4623  Company Owned               31   \n",
       "..                 ...              ...            ...              ...   \n",
       "201                  4             6060         Rented               66   \n",
       "202                  3             4796         Rented               30   \n",
       "203                  2             4485  Company Owned               23   \n",
       "206                  2             6765  Company Owned               62   \n",
       "207                  4             8506  Company Owned               62   \n",
       "\n",
       "    flood_impacted  flood_proof  electric_supply  dist_from_hub  workers_num  \\\n",
       "4              Yes            0                1            112         25.0   \n",
       "5               No            0                1            152         35.0   \n",
       "6               No            0                1             77         27.0   \n",
       "8               No            0                1            124         22.0   \n",
       "10              No            0                1            150         37.0   \n",
       "..             ...          ...              ...            ...          ...   \n",
       "201             No            0                1            141         39.0   \n",
       "202             No            0                1             86         33.0   \n",
       "203             No            0                1            157         29.0   \n",
       "206             No            0                1            157         32.0   \n",
       "207             No            0                0            152         36.0   \n",
       "\n",
       "     wh_est_year  storage_issue_reported_l3m  temp_reg_mach  \\\n",
       "4         2009.0                          18              0   \n",
       "5         2009.0                          23              1   \n",
       "6         2010.0                          24              0   \n",
       "8         2013.0                          13              1   \n",
       "10        1999.0                          17              0   \n",
       "..           ...                         ...            ...   \n",
       "201       2000.0                          25              0   \n",
       "202       2016.0                          12              0   \n",
       "203       2020.0                           5              0   \n",
       "206       2018.0                          11              0   \n",
       "207       1997.0                          34              0   \n",
       "\n",
       "    approved_wh_govt_certificate  wh_breakdown_l3m  govt_check_l3m  \\\n",
       "4                              C                 6              24   \n",
       "5                             A+                 3               3   \n",
       "6                              B                 3               6   \n",
       "8                             A+                 5               2   \n",
       "10                            B+                 4               6   \n",
       "..                           ...               ...             ...   \n",
       "201                            B                 6              19   \n",
       "202                            A                 1               5   \n",
       "203                            A                 2              29   \n",
       "206                            A                 2               2   \n",
       "207                           B+                 4              11   \n",
       "\n",
       "     product_wg_ton  warehouse_age  total_incidents  shops_per_distributor  \n",
       "4             24071           14.0               25             112.857143  \n",
       "5             32134           14.0               26             136.567568  \n",
       "6             30142           13.0               27             117.078947  \n",
       "8             18082           10.0               19             128.119048  \n",
       "10            21125           24.0               22             149.129032  \n",
       "..              ...            ...              ...                    ...  \n",
       "201           29116           23.0               35              91.818182  \n",
       "202           16130            7.0               13             159.866667  \n",
       "203            7113            3.0                8             195.000000  \n",
       "206           15069            5.0               13             109.112903  \n",
       "207           43072           26.0               38             137.193548  \n",
       "\n",
       "[100 rows x 27 columns]"
      ]
     },
     "execution_count": 45,
     "metadata": {},
     "output_type": "execute_result"
    }
   ],
   "source": [
    "df.head(100)"
   ]
  },
  {
   "cell_type": "code",
   "execution_count": 46,
   "id": "a52bbdac",
   "metadata": {},
   "outputs": [],
   "source": [
    "# Convert both columns to strings and concatenate them\n",
    "df['safety_index'] = df['approved_wh_govt_certificate'].astype(str) + '_' + df['total_incidents'].astype(str)\n"
   ]
  },
  {
   "cell_type": "code",
   "execution_count": 47,
   "id": "9ca86b24",
   "metadata": {},
   "outputs": [
    {
     "data": {
      "text/html": [
       "<div>\n",
       "<style scoped>\n",
       "    .dataframe tbody tr th:only-of-type {\n",
       "        vertical-align: middle;\n",
       "    }\n",
       "\n",
       "    .dataframe tbody tr th {\n",
       "        vertical-align: top;\n",
       "    }\n",
       "\n",
       "    .dataframe thead th {\n",
       "        text-align: right;\n",
       "    }\n",
       "</style>\n",
       "<table border=\"1\" class=\"dataframe\">\n",
       "  <thead>\n",
       "    <tr style=\"text-align: right;\">\n",
       "      <th></th>\n",
       "      <th>Ware_house_ID</th>\n",
       "      <th>WH_Manager_ID</th>\n",
       "      <th>Location_type</th>\n",
       "      <th>WH_capacity_size</th>\n",
       "      <th>zone</th>\n",
       "      <th>WH_regional_zone</th>\n",
       "      <th>num_refill_req_l3m</th>\n",
       "      <th>transport_issue_l1y</th>\n",
       "      <th>Competitor_in_mkt</th>\n",
       "      <th>retail_shop_num</th>\n",
       "      <th>wh_owner_type</th>\n",
       "      <th>distributor_num</th>\n",
       "      <th>flood_impacted</th>\n",
       "      <th>flood_proof</th>\n",
       "      <th>electric_supply</th>\n",
       "      <th>dist_from_hub</th>\n",
       "      <th>workers_num</th>\n",
       "      <th>wh_est_year</th>\n",
       "      <th>storage_issue_reported_l3m</th>\n",
       "      <th>temp_reg_mach</th>\n",
       "      <th>approved_wh_govt_certificate</th>\n",
       "      <th>wh_breakdown_l3m</th>\n",
       "      <th>govt_check_l3m</th>\n",
       "      <th>product_wg_ton</th>\n",
       "      <th>warehouse_age</th>\n",
       "      <th>total_incidents</th>\n",
       "      <th>shops_per_distributor</th>\n",
       "      <th>safety_index</th>\n",
       "    </tr>\n",
       "  </thead>\n",
       "  <tbody>\n",
       "    <tr>\n",
       "      <th>4</th>\n",
       "      <td>WH_100004</td>\n",
       "      <td>EID_50004</td>\n",
       "      <td>Rural</td>\n",
       "      <td>Large</td>\n",
       "      <td>North</td>\n",
       "      <td>Zone 5</td>\n",
       "      <td>3</td>\n",
       "      <td>1</td>\n",
       "      <td>2</td>\n",
       "      <td>4740</td>\n",
       "      <td>Company Owned</td>\n",
       "      <td>42</td>\n",
       "      <td>Yes</td>\n",
       "      <td>0</td>\n",
       "      <td>1</td>\n",
       "      <td>112</td>\n",
       "      <td>25.0</td>\n",
       "      <td>2009.0</td>\n",
       "      <td>18</td>\n",
       "      <td>0</td>\n",
       "      <td>C</td>\n",
       "      <td>6</td>\n",
       "      <td>24</td>\n",
       "      <td>24071</td>\n",
       "      <td>14.0</td>\n",
       "      <td>25</td>\n",
       "      <td>112.857143</td>\n",
       "      <td>C_25</td>\n",
       "    </tr>\n",
       "    <tr>\n",
       "      <th>5</th>\n",
       "      <td>WH_100005</td>\n",
       "      <td>EID_50005</td>\n",
       "      <td>Rural</td>\n",
       "      <td>Small</td>\n",
       "      <td>West</td>\n",
       "      <td>Zone 1</td>\n",
       "      <td>8</td>\n",
       "      <td>0</td>\n",
       "      <td>2</td>\n",
       "      <td>5053</td>\n",
       "      <td>Rented</td>\n",
       "      <td>37</td>\n",
       "      <td>No</td>\n",
       "      <td>0</td>\n",
       "      <td>1</td>\n",
       "      <td>152</td>\n",
       "      <td>35.0</td>\n",
       "      <td>2009.0</td>\n",
       "      <td>23</td>\n",
       "      <td>1</td>\n",
       "      <td>A+</td>\n",
       "      <td>3</td>\n",
       "      <td>3</td>\n",
       "      <td>32134</td>\n",
       "      <td>14.0</td>\n",
       "      <td>26</td>\n",
       "      <td>136.567568</td>\n",
       "      <td>A+_26</td>\n",
       "    </tr>\n",
       "    <tr>\n",
       "      <th>6</th>\n",
       "      <td>WH_100006</td>\n",
       "      <td>EID_50006</td>\n",
       "      <td>Rural</td>\n",
       "      <td>Large</td>\n",
       "      <td>West</td>\n",
       "      <td>Zone 6</td>\n",
       "      <td>8</td>\n",
       "      <td>0</td>\n",
       "      <td>4</td>\n",
       "      <td>4449</td>\n",
       "      <td>Company Owned</td>\n",
       "      <td>38</td>\n",
       "      <td>No</td>\n",
       "      <td>0</td>\n",
       "      <td>1</td>\n",
       "      <td>77</td>\n",
       "      <td>27.0</td>\n",
       "      <td>2010.0</td>\n",
       "      <td>24</td>\n",
       "      <td>0</td>\n",
       "      <td>B</td>\n",
       "      <td>3</td>\n",
       "      <td>6</td>\n",
       "      <td>30142</td>\n",
       "      <td>13.0</td>\n",
       "      <td>27</td>\n",
       "      <td>117.078947</td>\n",
       "      <td>B_27</td>\n",
       "    </tr>\n",
       "    <tr>\n",
       "      <th>8</th>\n",
       "      <td>WH_100008</td>\n",
       "      <td>EID_50008</td>\n",
       "      <td>Rural</td>\n",
       "      <td>Small</td>\n",
       "      <td>South</td>\n",
       "      <td>Zone 6</td>\n",
       "      <td>8</td>\n",
       "      <td>1</td>\n",
       "      <td>4</td>\n",
       "      <td>5381</td>\n",
       "      <td>Rented</td>\n",
       "      <td>42</td>\n",
       "      <td>No</td>\n",
       "      <td>0</td>\n",
       "      <td>1</td>\n",
       "      <td>124</td>\n",
       "      <td>22.0</td>\n",
       "      <td>2013.0</td>\n",
       "      <td>13</td>\n",
       "      <td>1</td>\n",
       "      <td>A+</td>\n",
       "      <td>5</td>\n",
       "      <td>2</td>\n",
       "      <td>18082</td>\n",
       "      <td>10.0</td>\n",
       "      <td>19</td>\n",
       "      <td>128.119048</td>\n",
       "      <td>A+_19</td>\n",
       "    </tr>\n",
       "    <tr>\n",
       "      <th>10</th>\n",
       "      <td>WH_100010</td>\n",
       "      <td>EID_50010</td>\n",
       "      <td>Rural</td>\n",
       "      <td>Large</td>\n",
       "      <td>North</td>\n",
       "      <td>Zone 6</td>\n",
       "      <td>7</td>\n",
       "      <td>1</td>\n",
       "      <td>3</td>\n",
       "      <td>4623</td>\n",
       "      <td>Company Owned</td>\n",
       "      <td>31</td>\n",
       "      <td>No</td>\n",
       "      <td>0</td>\n",
       "      <td>1</td>\n",
       "      <td>150</td>\n",
       "      <td>37.0</td>\n",
       "      <td>1999.0</td>\n",
       "      <td>17</td>\n",
       "      <td>0</td>\n",
       "      <td>B+</td>\n",
       "      <td>4</td>\n",
       "      <td>6</td>\n",
       "      <td>21125</td>\n",
       "      <td>24.0</td>\n",
       "      <td>22</td>\n",
       "      <td>149.129032</td>\n",
       "      <td>B+_22</td>\n",
       "    </tr>\n",
       "  </tbody>\n",
       "</table>\n",
       "</div>"
      ],
      "text/plain": [
       "   Ware_house_ID WH_Manager_ID Location_type WH_capacity_size   zone  \\\n",
       "4      WH_100004     EID_50004         Rural            Large  North   \n",
       "5      WH_100005     EID_50005         Rural            Small   West   \n",
       "6      WH_100006     EID_50006         Rural            Large   West   \n",
       "8      WH_100008     EID_50008         Rural            Small  South   \n",
       "10     WH_100010     EID_50010         Rural            Large  North   \n",
       "\n",
       "   WH_regional_zone  num_refill_req_l3m  transport_issue_l1y  \\\n",
       "4            Zone 5                   3                    1   \n",
       "5            Zone 1                   8                    0   \n",
       "6            Zone 6                   8                    0   \n",
       "8            Zone 6                   8                    1   \n",
       "10           Zone 6                   7                    1   \n",
       "\n",
       "    Competitor_in_mkt  retail_shop_num  wh_owner_type  distributor_num  \\\n",
       "4                   2             4740  Company Owned               42   \n",
       "5                   2             5053         Rented               37   \n",
       "6                   4             4449  Company Owned               38   \n",
       "8                   4             5381         Rented               42   \n",
       "10                  3             4623  Company Owned               31   \n",
       "\n",
       "   flood_impacted  flood_proof  electric_supply  dist_from_hub  workers_num  \\\n",
       "4             Yes            0                1            112         25.0   \n",
       "5              No            0                1            152         35.0   \n",
       "6              No            0                1             77         27.0   \n",
       "8              No            0                1            124         22.0   \n",
       "10             No            0                1            150         37.0   \n",
       "\n",
       "    wh_est_year  storage_issue_reported_l3m  temp_reg_mach  \\\n",
       "4        2009.0                          18              0   \n",
       "5        2009.0                          23              1   \n",
       "6        2010.0                          24              0   \n",
       "8        2013.0                          13              1   \n",
       "10       1999.0                          17              0   \n",
       "\n",
       "   approved_wh_govt_certificate  wh_breakdown_l3m  govt_check_l3m  \\\n",
       "4                             C                 6              24   \n",
       "5                            A+                 3               3   \n",
       "6                             B                 3               6   \n",
       "8                            A+                 5               2   \n",
       "10                           B+                 4               6   \n",
       "\n",
       "    product_wg_ton  warehouse_age  total_incidents  shops_per_distributor  \\\n",
       "4            24071           14.0               25             112.857143   \n",
       "5            32134           14.0               26             136.567568   \n",
       "6            30142           13.0               27             117.078947   \n",
       "8            18082           10.0               19             128.119048   \n",
       "10           21125           24.0               22             149.129032   \n",
       "\n",
       "   safety_index  \n",
       "4          C_25  \n",
       "5         A+_26  \n",
       "6          B_27  \n",
       "8         A+_19  \n",
       "10        B+_22  "
      ]
     },
     "execution_count": 47,
     "metadata": {},
     "output_type": "execute_result"
    }
   ],
   "source": [
    "df.head()"
   ]
  },
  {
   "cell_type": "code",
   "execution_count": 48,
   "id": "86610977",
   "metadata": {},
   "outputs": [
    {
     "name": "stdout",
     "output_type": "stream",
     "text": [
      "<class 'pandas.core.frame.DataFrame'>\n",
      "Int64Index: 12127 entries, 4 to 24999\n",
      "Data columns (total 28 columns):\n",
      " #   Column                        Non-Null Count  Dtype  \n",
      "---  ------                        --------------  -----  \n",
      " 0   Ware_house_ID                 12127 non-null  object \n",
      " 1   WH_Manager_ID                 12127 non-null  object \n",
      " 2   Location_type                 12127 non-null  object \n",
      " 3   WH_capacity_size              12127 non-null  object \n",
      " 4   zone                          12127 non-null  object \n",
      " 5   WH_regional_zone              12127 non-null  object \n",
      " 6   num_refill_req_l3m            12127 non-null  int64  \n",
      " 7   transport_issue_l1y           12127 non-null  int64  \n",
      " 8   Competitor_in_mkt             12127 non-null  int64  \n",
      " 9   retail_shop_num               12127 non-null  int64  \n",
      " 10  wh_owner_type                 12127 non-null  object \n",
      " 11  distributor_num               12127 non-null  int64  \n",
      " 12  flood_impacted                12127 non-null  object \n",
      " 13  flood_proof                   12127 non-null  int64  \n",
      " 14  electric_supply               12127 non-null  int64  \n",
      " 15  dist_from_hub                 12127 non-null  int64  \n",
      " 16  workers_num                   12127 non-null  float64\n",
      " 17  wh_est_year                   12127 non-null  float64\n",
      " 18  storage_issue_reported_l3m    12127 non-null  int64  \n",
      " 19  temp_reg_mach                 12127 non-null  int64  \n",
      " 20  approved_wh_govt_certificate  12127 non-null  object \n",
      " 21  wh_breakdown_l3m              12127 non-null  int64  \n",
      " 22  govt_check_l3m                12127 non-null  int64  \n",
      " 23  product_wg_ton                12127 non-null  int64  \n",
      " 24  warehouse_age                 12127 non-null  float64\n",
      " 25  total_incidents               12127 non-null  int64  \n",
      " 26  shops_per_distributor         12127 non-null  float64\n",
      " 27  safety_index                  12127 non-null  object \n",
      "dtypes: float64(4), int64(14), object(10)\n",
      "memory usage: 2.7+ MB\n"
     ]
    }
   ],
   "source": [
    "df.info()"
   ]
  },
  {
   "cell_type": "code",
   "execution_count": 49,
   "id": "4baa9e53",
   "metadata": {},
   "outputs": [
    {
     "data": {
      "image/png": "[encoded data removed]",
      "text/plain": [
       "<Figure size 1000x600 with 1 Axes>"
      ]
     },
     "metadata": {},
     "output_type": "display_data"
    }
   ],
   "source": [
    "import matplotlib.pyplot as plt\n",
    "\n",
    "# Plotting the scatter plot\n",
    "plt.figure(figsize=(10, 6))\n",
    "plt.scatter(df['warehouse_age'], df['total_incidents'], alpha=0.5)\n",
    "plt.title('Scatter plot between Warehouse Age and Total Incidents')\n",
    "plt.xlabel('Warehouse Age')\n",
    "plt.ylabel('Total Incidents')\n",
    "plt.grid(True)\n",
    "plt.show()\n"
   ]
  },
  {
   "cell_type": "code",
   "execution_count": null,
   "id": "7a3988ed",
   "metadata": {},
   "outputs": [],
   "source": []
  },
  {
   "cell_type": "code",
   "execution_count": 50,
   "id": "882b5d4a",
   "metadata": {},
   "outputs": [
    {
     "name": "stdout",
     "output_type": "stream",
     "text": [
      "Requirement already satisfied: scipy in /Users/nguyenthientoan/anaconda3/lib/python3.11/site-packages (1.10.1)\n",
      "Requirement already satisfied: numpy<1.27.0,>=1.19.5 in /Users/nguyenthientoan/anaconda3/lib/python3.11/site-packages (from scipy) (1.24.3)\n",
      "Note: you may need to restart the kernel to use updated packages.\n"
     ]
    }
   ],
   "source": [
    "pip install scipy"
   ]
  },
  {
   "cell_type": "code",
   "execution_count": 51,
   "id": "f1852e54",
   "metadata": {},
   "outputs": [
    {
     "ename": "NameError",
     "evalue": "name 'shapiro' is not defined",
     "output_type": "error",
     "traceback": [
      "\u001b[0;31m---------------------------------------------------------------------------\u001b[0m",
      "\u001b[0;31mNameError\u001b[0m                                 Traceback (most recent call last)",
      "Cell \u001b[0;32mIn[51], line 1\u001b[0m\n\u001b[0;32m----> 1\u001b[0m shapiro_stat, shapiro_p \u001b[38;5;241m=\u001b[39m shapiro(df[\u001b[38;5;124m'\u001b[39m\u001b[38;5;124mtotal_incidents\u001b[39m\u001b[38;5;124m'\u001b[39m])\n\u001b[1;32m      3\u001b[0m \u001b[38;5;28mprint\u001b[39m(\u001b[38;5;124mf\u001b[39m\u001b[38;5;124m\"\u001b[39m\u001b[38;5;124mShapiro-Wilk Statistic: \u001b[39m\u001b[38;5;132;01m{\u001b[39;00mshapiro_stat\u001b[38;5;132;01m}\u001b[39;00m\u001b[38;5;124m\"\u001b[39m)\n\u001b[1;32m      4\u001b[0m \u001b[38;5;28mprint\u001b[39m(\u001b[38;5;124mf\u001b[39m\u001b[38;5;124m\"\u001b[39m\u001b[38;5;124mP-value: \u001b[39m\u001b[38;5;132;01m{\u001b[39;00mshapiro_p\u001b[38;5;132;01m}\u001b[39;00m\u001b[38;5;124m\"\u001b[39m)\n",
      "\u001b[0;31mNameError\u001b[0m: name 'shapiro' is not defined"
     ]
    }
   ],
   "source": [
    "shapiro_stat, shapiro_p = shapiro(df['total_incidents'])\n",
    "\n",
    "print(f\"Shapiro-Wilk Statistic: {shapiro_stat}\")\n",
    "print(f\"P-value: {shapiro_p}\")\n",
    "\n",
    "alpha = 0.05\n",
    "if shapiro_p > alpha:\n",
    "    print(\"Fail to reject the null hypothesis. Data appears to be normally distributed.\")\n",
    "else:\n",
    "    print(\"Reject the null hypothesis. Data is not normally distributed.\")"
   ]
  },
  {
   "cell_type": "code",
   "execution_count": 54,
   "id": "0f10eb6c",
   "metadata": {},
   "outputs": [
    {
     "name": "stdout",
     "output_type": "stream",
     "text": [
      "T-statistic: 122.77891671059537\n",
      "P-value: 0.0\n",
      "We reject the null hypothesis and accept that the means of total incidents for older and newer warehouses are different.\n"
     ]
    }
   ],
   "source": [
    "import numpy as np\n",
    "from scipy.stats import ttest_ind\n",
    "\n",
    "# Splitting data into older and latest based on median age.\n",
    "median_age = np.median(df['warehouse_age'])\n",
    "older_warehouses = df[df['warehouse_age'] > median_age]['total_incidents']\n",
    "latest_warehouses = df[df['warehouse_age'] <= median_age]['total_incidents']\n",
    "\n",
    "# Performing t-test\n",
    "t_stat, p_val = ttest_ind(older_warehouses, latest_warehouses)\n",
    "\n",
    "print(f\"T-statistic: {t_stat}\")\n",
    "print(f\"P-value: {p_val}\")\n",
    "\n",
    "# Deciding based on p-value\n",
    "alpha = 0.05  # significance level\n",
    "if p_val < alpha:\n",
    "    print(\"We reject the null hypothesis and accept that the means of total incidents for older and newer warehouses are different.\")\n",
    "else:\n",
    "    print(\"We fail to reject the null hypothesis. There's no significant difference in the means of total incidents between older and newer warehouses.\")\n"
   ]
  },
  {
   "cell_type": "code",
   "execution_count": 55,
   "id": "8a565a53",
   "metadata": {},
   "outputs": [
    {
     "name": "stdout",
     "output_type": "stream",
     "text": [
      "Spearman's Rank Correlation Coefficient: 0.856\n",
      "P-value: 0.000\n",
      "Reject the null hypothesis. There's a positive monotonic relationship between warehouse age and total incidents.\n"
     ]
    }
   ],
   "source": [
    "from scipy.stats import spearmanr\n",
    "\n",
    "# Calculate Spearman's Rank Correlation Coefficient\n",
    "coef, p_val = spearmanr(df['warehouse_age'], df['total_incidents'])\n",
    "\n",
    "print(f\"Spearman's Rank Correlation Coefficient: {coef:.3f}\")\n",
    "print(f\"P-value: {p_val:.3f}\")\n",
    "\n",
    "# Deciding based on p-value\n",
    "alpha = 0.05\n",
    "if p_val < alpha:\n",
    "    if coef > 0:\n",
    "        print(\"Reject the null hypothesis. There's a positive monotonic relationship between warehouse age and total incidents.\")\n",
    "    else:\n",
    "        print(\"Reject the null hypothesis. There's a negative monotonic relationship between warehouse age and total incidents.\")\n",
    "else:\n",
    "    print(\"Fail to reject the null hypothesis. There's no significant monotonic relationship between warehouse age and total incidents.\")"
   ]
  },
  {
   "cell_type": "raw",
   "id": "a23a5f86",
   "metadata": {},
   "source": [
    "The Spearman's rank correlation coefficient is positive and significant (i.e., p-value < 0.05), it supports your observation that older warehouses tend to have more incidents."
   ]
  },
  {
   "cell_type": "code",
   "execution_count": 56,
   "id": "8e701c16",
   "metadata": {},
   "outputs": [
    {
     "name": "stdout",
     "output_type": "stream",
     "text": [
      "Requirement already satisfied: statsmodels in /Users/nguyenthientoan/anaconda3/lib/python3.11/site-packages (0.14.0)\n",
      "Requirement already satisfied: numpy>=1.18 in /Users/nguyenthientoan/anaconda3/lib/python3.11/site-packages (from statsmodels) (1.24.3)\n",
      "Requirement already satisfied: scipy!=1.9.2,>=1.4 in /Users/nguyenthientoan/anaconda3/lib/python3.11/site-packages (from statsmodels) (1.10.1)\n",
      "Requirement already satisfied: pandas>=1.0 in /Users/nguyenthientoan/anaconda3/lib/python3.11/site-packages (from statsmodels) (1.5.3)\n",
      "Requirement already satisfied: patsy>=0.5.2 in /Users/nguyenthientoan/anaconda3/lib/python3.11/site-packages (from statsmodels) (0.5.3)\n",
      "Requirement already satisfied: packaging>=21.3 in /Users/nguyenthientoan/anaconda3/lib/python3.11/site-packages (from statsmodels) (23.0)\n",
      "Requirement already satisfied: python-dateutil>=2.8.1 in /Users/nguyenthientoan/anaconda3/lib/python3.11/site-packages (from pandas>=1.0->statsmodels) (2.8.2)\n",
      "Requirement already satisfied: pytz>=2020.1 in /Users/nguyenthientoan/anaconda3/lib/python3.11/site-packages (from pandas>=1.0->statsmodels) (2022.7)\n",
      "Requirement already satisfied: six in /Users/nguyenthientoan/anaconda3/lib/python3.11/site-packages (from patsy>=0.5.2->statsmodels) (1.16.0)\n",
      "Note: you may need to restart the kernel to use updated packages.\n"
     ]
    }
   ],
   "source": [
    "pip install statsmodels\n"
   ]
  },
  {
   "cell_type": "code",
   "execution_count": 57,
   "id": "006b295d",
   "metadata": {},
   "outputs": [
    {
     "name": "stdout",
     "output_type": "stream",
     "text": [
      "                            OLS Regression Results                            \n",
      "==============================================================================\n",
      "Dep. Variable:        total_incidents   R-squared:                       0.711\n",
      "Model:                            OLS   Adj. R-squared:                  0.711\n",
      "Method:                 Least Squares   F-statistic:                 2.989e+04\n",
      "Date:                Tue, 10 Oct 2023   Prob (F-statistic):               0.00\n",
      "Time:                        20:56:26   Log-Likelihood:                -36796.\n",
      "No. Observations:               12127   AIC:                         7.360e+04\n",
      "Df Residuals:                   12125   BIC:                         7.361e+04\n",
      "Df Model:                           1                                         \n",
      "Covariance Type:            nonrobust                                         \n",
      "=================================================================================\n",
      "                    coef    std err          t      P>|t|      [0.025      0.975]\n",
      "---------------------------------------------------------------------------------\n",
      "const             7.7725      0.100     77.907      0.000       7.577       7.968\n",
      "warehouse_age     1.0875      0.006    172.895      0.000       1.075       1.100\n",
      "==============================================================================\n",
      "Omnibus:                      250.073   Durbin-Watson:                   2.018\n",
      "Prob(Omnibus):                  0.000   Jarque-Bera (JB):              327.863\n",
      "Skew:                           0.265   Prob(JB):                     6.39e-72\n",
      "Kurtosis:                       3.606   Cond. No.                         34.8\n",
      "==============================================================================\n",
      "\n",
      "Notes:\n",
      "[1] Standard Errors assume that the covariance matrix of the errors is correctly specified.\n"
     ]
    }
   ],
   "source": [
    "import statsmodels.api as sm\n",
    "\n",
    "# Assuming 'warehouse_age' is the column that represents the age of the warehouses.\n",
    "X = df['warehouse_age']\n",
    "y = df['total_incidents']\n",
    "\n",
    "# Add a constant to the model (i.e., bias or intercept)\n",
    "X = sm.add_constant(X)\n",
    "\n",
    "model = sm.OLS(y, X).fit()\n",
    "print(model.summary())\n"
   ]
  },
  {
   "cell_type": "code",
   "execution_count": 58,
   "id": "f67e84b6",
   "metadata": {},
   "outputs": [
    {
     "name": "stdout",
     "output_type": "stream",
     "text": [
      "Mean Squared Error: 24.64\n",
      "Mean Absolute Error: 3.87\n",
      "R-squared: 0.72\n"
     ]
    }
   ],
   "source": [
    "from sklearn.model_selection import train_test_split\n",
    "from sklearn.linear_model import LinearRegression\n",
    "from sklearn.metrics import mean_squared_error, mean_absolute_error, r2_score\n",
    "\n",
    "# 1. Splitting the data\n",
    "X = df[['warehouse_age']]\n",
    "y = df['total_incidents']\n",
    "X_train, X_test, y_train, y_test = train_test_split(X, y, test_size=0.3, random_state=42)\n",
    "\n",
    "# 2. Training the model and making predictions\n",
    "lin_reg = LinearRegression()\n",
    "lin_reg.fit(X_train, y_train)\n",
    "y_pred = lin_reg.predict(X_test)\n",
    "\n",
    "# 3. Evaluating the model\n",
    "mse = mean_squared_error(y_test, y_pred)\n",
    "mae = mean_absolute_error(y_test, y_pred)\n",
    "r2 = r2_score(y_test, y_pred)\n",
    "\n",
    "print(f\"Mean Squared Error: {mse:.2f}\")\n",
    "print(f\"Mean Absolute Error: {mae:.2f}\")\n",
    "print(f\"R-squared: {r2:.2f}\")\n"
   ]
  },
  {
   "cell_type": "code",
   "execution_count": null,
   "id": "e717e7c3",
   "metadata": {},
   "outputs": [],
   "source": []
  },
  {
   "cell_type": "code",
   "execution_count": 52,
   "id": "7fed4829",
   "metadata": {},
   "outputs": [
    {
     "data": {
      "image/png": "[encoded data removed]",
      "text/plain": [
       "<Figure size 1000x600 with 1 Axes>"
      ]
     },
     "metadata": {},
     "output_type": "display_data"
    }
   ],
   "source": [
    "import matplotlib.pyplot as plt\n",
    "\n",
    "# Scatter plot\n",
    "plt.figure(figsize=(10, 6))\n",
    "plt.scatter(df['total_incidents'], df['approved_wh_govt_certificate'], alpha=0.5)\n",
    "plt.title('Scatter plot of total_incidents vs approved_wh_govt_certificate')\n",
    "plt.xlabel('total_incidents')\n",
    "plt.ylabel('approved_wh_govt_certificate')\n",
    "plt.grid(True)\n",
    "plt.show()\n"
   ]
  },
  {
   "cell_type": "code",
   "execution_count": 53,
   "id": "62e4666c",
   "metadata": {},
   "outputs": [
    {
     "data": {
      "image/png": "[encoded data removed]",
      "text/plain": [
       "<Figure size 1000x600 with 1 Axes>"
      ]
     },
     "metadata": {},
     "output_type": "display_data"
    }
   ],
   "source": [
    "import matplotlib.pyplot as plt\n",
    "\n",
    "# Histogram\n",
    "plt.figure(figsize=(10, 6))\n",
    "plt.hist(df['total_incidents'], bins=50, edgecolor='k', alpha=0.7)\n",
    "plt.title('Distribution of total_incidents')\n",
    "plt.xlabel('Total Incidents')\n",
    "plt.ylabel('Frequency')\n",
    "plt.grid(True)\n",
    "plt.show()\n"
   ]
  },
  {
   "cell_type": "code",
   "execution_count": null,
   "id": "698eaa9f",
   "metadata": {},
   "outputs": [],
   "source": []
  },
  {
   "cell_type": "code",
   "execution_count": null,
   "id": "24edafc6",
   "metadata": {},
   "outputs": [],
   "source": []
  },
  {
   "cell_type": "code",
   "execution_count": null,
   "id": "9034248e",
   "metadata": {},
   "outputs": [],
   "source": []
  },
  {
   "cell_type": "code",
   "execution_count": null,
   "id": "4205dd9b",
   "metadata": {},
   "outputs": [],
   "source": []
  },
  {
   "cell_type": "code",
   "execution_count": null,
   "id": "d7d78502",
   "metadata": {},
   "outputs": [],
   "source": []
  }
 ],
 "metadata": {
  "kernelspec": {
   "display_name": "Python 3 (ipykernel)",
   "language": "python",
   "name": "python3"
  },
  "language_info": {
   "codemirror_mode": {
    "name": "ipython",
    "version": 3
   },
   "file_extension": ".py",
   "mimetype": "text/x-python",
   "name": "python",
   "nbconvert_exporter": "python",
   "pygments_lexer": "ipython3",
   "version": "3.11.4"
  }
 },
 "nbformat": 4,
 "nbformat_minor": 5
}
